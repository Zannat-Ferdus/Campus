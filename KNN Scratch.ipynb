{
 "cells": [
  {
   "cell_type": "code",
   "execution_count": 1,
   "id": "b088cbb3",
   "metadata": {},
   "outputs": [],
   "source": [
    "import numpy as np\n",
    "import pandas as pd\n",
    "import operator\n",
    "from collections import Counter\n"
   ]
  },
  {
   "cell_type": "code",
   "execution_count": 3,
   "id": "1f4ff856",
   "metadata": {},
   "outputs": [],
   "source": [
    "data=pd.read_csv('Social_Network_Ads.csv')"
   ]
  },
  {
   "cell_type": "code",
   "execution_count": 2,
   "id": "1c9818cf",
   "metadata": {},
   "outputs": [],
   "source": [
    "class KNearestNeighbors:\n",
    "    def __init__(self,k):\n",
    "        self.k=k\n",
    "\n",
    "    def fit(self,X_train,y_train):\n",
    "        self.X_train=X_train\n",
    "        self.y_train=y_train\n",
    "        print(\"Training Done\")\n",
    "\n",
    "    def predict(self,X_test):\n",
    "\n",
    "        distance={}\n",
    "        counter=1\n",
    "\n",
    "        for i in self.X_train:\n",
    "            distance[counter]=((X_test[0][0]-i[0])**2 + (X_test[0][1]-i[1])**2)**1/2\n",
    "            counter=counter+1\n",
    "        distance=sorted(distance.items(), key=operator.itemgetter(1))\n",
    "\n",
    "        self.classify(distance=distance[:self.k])\n",
    "\n",
    "    def classify(self,distance):\n",
    "        label=[]\n",
    "\n",
    "        for i in distance:\n",
    "            label.append(self.y_train[i[0]])\n",
    "\n",
    "        return Counter(label).most_common()[0][0]\n",
    "\n"
   ]
  },
  {
   "cell_type": "code",
   "execution_count": 4,
   "id": "063bd07d",
   "metadata": {},
   "outputs": [],
   "source": [
    "X=data.iloc[:,2:4].values\n",
    "y=data.iloc[:,-1].values"
   ]
  },
  {
   "cell_type": "code",
   "execution_count": 6,
   "id": "ca1196d9",
   "metadata": {},
   "outputs": [],
   "source": [
    "from sklearn.model_selection import train_test_split\n",
    "X_train,X_test,y_train,y_test=train_test_split(X,y,test_size=0.2)\n",
    "\n",
    "from sklearn.preprocessing import StandardScaler\n",
    "scaler=StandardScaler()\n",
    "\n",
    "X_train=scaler.fit_transform(X_train)\n",
    "X_test=scaler.transform(X_test)"
   ]
  },
  {
   "cell_type": "code",
   "execution_count": 7,
   "id": "c9dbc88b",
   "metadata": {},
   "outputs": [
    {
     "name": "stdout",
     "output_type": "stream",
     "text": [
      "Training Done\n"
     ]
    }
   ],
   "source": [
    "# An object of KNN\n",
    "knn=KNearestNeighbors(k=5)\n",
    "\n",
    "knn.fit(X_train,y_train)\n",
    "\n"
   ]
  },
  {
   "cell_type": "code",
   "execution_count": 13,
   "id": "f12dc70f",
   "metadata": {},
   "outputs": [
    {
     "name": "stdout",
     "output_type": "stream",
     "text": [
      "Enter the age:20\n",
      "Enter the salary:25000\n",
      "Will purchase\n"
     ]
    }
   ],
   "source": [
    "def predict_new():\n",
    "    age=int(input(\"Enter the age:\"))\n",
    "    salary=int(input(\"Enter the salary:\"))\n",
    "    X_new=np.array([[age],[salary]]).reshape(1,2)\n",
    "\n",
    "    X_new=scaler.transform(X_new)\n",
    "\n",
    "    result=knn.predict(X_new)\n",
    "\n",
    "    if result==0:\n",
    "        print(\"Will not purchase\")\n",
    "        #print(f'{result} Will  purchase')\n",
    "    else:\n",
    "        print(\"Will purchase\")\n",
    "        #print(f'{result} Will not purchase')\n",
    "\n",
    "predict_new()"
   ]
  },
  {
   "cell_type": "code",
   "execution_count": null,
   "id": "862fcb00",
   "metadata": {},
   "outputs": [],
   "source": []
  }
 ],
 "metadata": {
  "kernelspec": {
   "display_name": "Python 3",
   "language": "python",
   "name": "python3"
  },
  "language_info": {
   "codemirror_mode": {
    "name": "ipython",
    "version": 3
   },
   "file_extension": ".py",
   "mimetype": "text/x-python",
   "name": "python",
   "nbconvert_exporter": "python",
   "pygments_lexer": "ipython3",
   "version": "3.11.4"
  }
 },
 "nbformat": 4,
 "nbformat_minor": 5
}
