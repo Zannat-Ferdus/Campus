{
 "cells": [
  {
   "cell_type": "code",
   "execution_count": 1,
   "id": "bebd5bd3",
   "metadata": {},
   "outputs": [],
   "source": [
    "import pandas as pd\n",
    "import numpy as np"
   ]
  },
  {
   "cell_type": "code",
   "execution_count": 3,
   "id": "5367e03e",
   "metadata": {},
   "outputs": [
    {
     "data": {
      "text/html": [
       "<div>\n",
       "<style scoped>\n",
       "    .dataframe tbody tr th:only-of-type {\n",
       "        vertical-align: middle;\n",
       "    }\n",
       "\n",
       "    .dataframe tbody tr th {\n",
       "        vertical-align: top;\n",
       "    }\n",
       "\n",
       "    .dataframe thead th {\n",
       "        text-align: right;\n",
       "    }\n",
       "</style>\n",
       "<table border=\"1\" class=\"dataframe\">\n",
       "  <thead>\n",
       "    <tr style=\"text-align: right;\">\n",
       "      <th></th>\n",
       "      <th>Days</th>\n",
       "      <th>Outlook</th>\n",
       "      <th>Temprature</th>\n",
       "      <th>Routine</th>\n",
       "      <th>Wear Jacket?</th>\n",
       "    </tr>\n",
       "  </thead>\n",
       "  <tbody>\n",
       "    <tr>\n",
       "      <th>0</th>\n",
       "      <td>1</td>\n",
       "      <td>Sunny</td>\n",
       "      <td>Cold</td>\n",
       "      <td>Indoor</td>\n",
       "      <td>No</td>\n",
       "    </tr>\n",
       "    <tr>\n",
       "      <th>1</th>\n",
       "      <td>2</td>\n",
       "      <td>Cloudy</td>\n",
       "      <td>Cold</td>\n",
       "      <td>Indoor</td>\n",
       "      <td>Yes</td>\n",
       "    </tr>\n",
       "    <tr>\n",
       "      <th>2</th>\n",
       "      <td>3</td>\n",
       "      <td>Cloudy</td>\n",
       "      <td>Warm</td>\n",
       "      <td>Outdoor</td>\n",
       "      <td>No</td>\n",
       "    </tr>\n",
       "    <tr>\n",
       "      <th>3</th>\n",
       "      <td>4</td>\n",
       "      <td>Sunny</td>\n",
       "      <td>Cold</td>\n",
       "      <td>Outdoor</td>\n",
       "      <td>Yes</td>\n",
       "    </tr>\n",
       "    <tr>\n",
       "      <th>4</th>\n",
       "      <td>5</td>\n",
       "      <td>Cloudy</td>\n",
       "      <td>Cold</td>\n",
       "      <td>Outdoor</td>\n",
       "      <td>Yes</td>\n",
       "    </tr>\n",
       "    <tr>\n",
       "      <th>5</th>\n",
       "      <td>6</td>\n",
       "      <td>Sunny</td>\n",
       "      <td>Warm</td>\n",
       "      <td>Outdoor</td>\n",
       "      <td>No</td>\n",
       "    </tr>\n",
       "    <tr>\n",
       "      <th>6</th>\n",
       "      <td>7</td>\n",
       "      <td>Cloudy</td>\n",
       "      <td>Warm</td>\n",
       "      <td>Indoor</td>\n",
       "      <td>No</td>\n",
       "    </tr>\n",
       "    <tr>\n",
       "      <th>7</th>\n",
       "      <td>8</td>\n",
       "      <td>Sunny</td>\n",
       "      <td>Warm</td>\n",
       "      <td>Indoor</td>\n",
       "      <td>No</td>\n",
       "    </tr>\n",
       "  </tbody>\n",
       "</table>\n",
       "</div>"
      ],
      "text/plain": [
       "   Days Outlook Temprature  Routine Wear Jacket?\n",
       "0     1   Sunny       Cold  Indoor            No\n",
       "1     2  Cloudy       Cold  Indoor           Yes\n",
       "2     3  Cloudy       Warm  Outdoor           No\n",
       "3     4   Sunny       Cold  Outdoor          Yes\n",
       "4     5  Cloudy       Cold  Outdoor          Yes\n",
       "5     6   Sunny       Warm  Outdoor           No\n",
       "6     7  Cloudy       Warm  Indoor            No\n",
       "7     8   Sunny       Warm  Indoor            No"
      ]
     },
     "execution_count": 3,
     "metadata": {},
     "output_type": "execute_result"
    }
   ],
   "source": [
    "df = pd.read_csv('game data.csv')\n",
    "df"
   ]
  },
  {
   "cell_type": "code",
   "execution_count": 4,
   "id": "30a014e9",
   "metadata": {},
   "outputs": [
    {
     "data": {
      "text/plain": [
       "No     5\n",
       "Yes    3\n",
       "Name: Wear Jacket?, dtype: int64"
      ]
     },
     "execution_count": 4,
     "metadata": {},
     "output_type": "execute_result"
    }
   ],
   "source": [
    "# Sunny\tCold\tIndoor\n",
    "df['Wear Jacket?'].value_counts()"
   ]
  },
  {
   "cell_type": "code",
   "execution_count": 15,
   "id": "07a2a894",
   "metadata": {},
   "outputs": [
    {
     "name": "stdout",
     "output_type": "stream",
     "text": [
      "0.625\n",
      "0.375\n"
     ]
    }
   ],
   "source": [
    "PN = 5/(5+3)\n",
    "PY = 3/(5+3)\n",
    "\n",
    "print(PN)\n",
    "print(PY)\n"
   ]
  },
  {
   "cell_type": "code",
   "execution_count": 16,
   "id": "4f143f48",
   "metadata": {},
   "outputs": [
    {
     "data": {
      "text/html": [
       "<div>\n",
       "<style scoped>\n",
       "    .dataframe tbody tr th:only-of-type {\n",
       "        vertical-align: middle;\n",
       "    }\n",
       "\n",
       "    .dataframe tbody tr th {\n",
       "        vertical-align: top;\n",
       "    }\n",
       "\n",
       "    .dataframe thead th {\n",
       "        text-align: right;\n",
       "    }\n",
       "</style>\n",
       "<table border=\"1\" class=\"dataframe\">\n",
       "  <thead>\n",
       "    <tr style=\"text-align: right;\">\n",
       "      <th>Wear Jacket?</th>\n",
       "      <th>No</th>\n",
       "      <th>Yes</th>\n",
       "    </tr>\n",
       "    <tr>\n",
       "      <th>Outlook</th>\n",
       "      <th></th>\n",
       "      <th></th>\n",
       "    </tr>\n",
       "  </thead>\n",
       "  <tbody>\n",
       "    <tr>\n",
       "      <th>Cloudy</th>\n",
       "      <td>2</td>\n",
       "      <td>2</td>\n",
       "    </tr>\n",
       "    <tr>\n",
       "      <th>Sunny</th>\n",
       "      <td>3</td>\n",
       "      <td>1</td>\n",
       "    </tr>\n",
       "  </tbody>\n",
       "</table>\n",
       "</div>"
      ],
      "text/plain": [
       "Wear Jacket?  No  Yes\n",
       "Outlook              \n",
       "Cloudy         2    2\n",
       "Sunny          3    1"
      ]
     },
     "execution_count": 16,
     "metadata": {},
     "output_type": "execute_result"
    }
   ],
   "source": [
    "# outlook\n",
    "pd.crosstab(df.Outlook, df['Wear Jacket?'])"
   ]
  },
  {
   "cell_type": "code",
   "execution_count": 17,
   "id": "35052e6d",
   "metadata": {},
   "outputs": [],
   "source": [
    "PCloudyNo = 2/5\n",
    "PSunnyNo = 3/5\n",
    "\n",
    "PCloudyYes = 2/3\n",
    "PSunnyYes = 1/3"
   ]
  },
  {
   "cell_type": "code",
   "execution_count": 18,
   "id": "17bb061d",
   "metadata": {},
   "outputs": [
    {
     "data": {
      "text/html": [
       "<div>\n",
       "<style scoped>\n",
       "    .dataframe tbody tr th:only-of-type {\n",
       "        vertical-align: middle;\n",
       "    }\n",
       "\n",
       "    .dataframe tbody tr th {\n",
       "        vertical-align: top;\n",
       "    }\n",
       "\n",
       "    .dataframe thead th {\n",
       "        text-align: right;\n",
       "    }\n",
       "</style>\n",
       "<table border=\"1\" class=\"dataframe\">\n",
       "  <thead>\n",
       "    <tr style=\"text-align: right;\">\n",
       "      <th>Wear Jacket?</th>\n",
       "      <th>No</th>\n",
       "      <th>Yes</th>\n",
       "    </tr>\n",
       "    <tr>\n",
       "      <th>Temprature</th>\n",
       "      <th></th>\n",
       "      <th></th>\n",
       "    </tr>\n",
       "  </thead>\n",
       "  <tbody>\n",
       "    <tr>\n",
       "      <th>Cold</th>\n",
       "      <td>1</td>\n",
       "      <td>3</td>\n",
       "    </tr>\n",
       "    <tr>\n",
       "      <th>Warm</th>\n",
       "      <td>4</td>\n",
       "      <td>0</td>\n",
       "    </tr>\n",
       "  </tbody>\n",
       "</table>\n",
       "</div>"
      ],
      "text/plain": [
       "Wear Jacket?  No  Yes\n",
       "Temprature           \n",
       "Cold           1    3\n",
       "Warm           4    0"
      ]
     },
     "execution_count": 18,
     "metadata": {},
     "output_type": "execute_result"
    }
   ],
   "source": [
    "#Temprature\n",
    "pd.crosstab(df.Temprature, df['Wear Jacket?'])"
   ]
  },
  {
   "cell_type": "code",
   "execution_count": 19,
   "id": "eb20d271",
   "metadata": {},
   "outputs": [],
   "source": [
    "PColdNo = 1/5\n",
    "PwarmNo = 4/5\n",
    "\n",
    "PColdYes = 3/3\n",
    "PWarmYes = 0"
   ]
  },
  {
   "cell_type": "code",
   "execution_count": 20,
   "id": "11082a92",
   "metadata": {},
   "outputs": [
    {
     "data": {
      "text/html": [
       "<div>\n",
       "<style scoped>\n",
       "    .dataframe tbody tr th:only-of-type {\n",
       "        vertical-align: middle;\n",
       "    }\n",
       "\n",
       "    .dataframe tbody tr th {\n",
       "        vertical-align: top;\n",
       "    }\n",
       "\n",
       "    .dataframe thead th {\n",
       "        text-align: right;\n",
       "    }\n",
       "</style>\n",
       "<table border=\"1\" class=\"dataframe\">\n",
       "  <thead>\n",
       "    <tr style=\"text-align: right;\">\n",
       "      <th>Wear Jacket?</th>\n",
       "      <th>No</th>\n",
       "      <th>Yes</th>\n",
       "    </tr>\n",
       "    <tr>\n",
       "      <th>Routine</th>\n",
       "      <th></th>\n",
       "      <th></th>\n",
       "    </tr>\n",
       "  </thead>\n",
       "  <tbody>\n",
       "    <tr>\n",
       "      <th>Indoor</th>\n",
       "      <td>3</td>\n",
       "      <td>1</td>\n",
       "    </tr>\n",
       "    <tr>\n",
       "      <th>Outdoor</th>\n",
       "      <td>2</td>\n",
       "      <td>2</td>\n",
       "    </tr>\n",
       "  </tbody>\n",
       "</table>\n",
       "</div>"
      ],
      "text/plain": [
       "Wear Jacket?  No  Yes\n",
       "Routine              \n",
       "Indoor         3    1\n",
       "Outdoor        2    2"
      ]
     },
     "execution_count": 20,
     "metadata": {},
     "output_type": "execute_result"
    }
   ],
   "source": [
    "#Routine\n",
    "pd.crosstab(df.Routine, df['Wear Jacket?'])"
   ]
  },
  {
   "cell_type": "code",
   "execution_count": 21,
   "id": "ce47601a",
   "metadata": {},
   "outputs": [],
   "source": [
    "PIndoorNo = 3/5\n",
    "PoutdoorNo = 2/5\n",
    "\n",
    "PIndoorYes = 1/3\n",
    "POutdoorNo = 2/3"
   ]
  },
  {
   "cell_type": "code",
   "execution_count": 22,
   "id": "62c36f8d",
   "metadata": {},
   "outputs": [
    {
     "name": "stdout",
     "output_type": "stream",
     "text": [
      "0.041666666666666664\n",
      "0.045000000000000005\n"
     ]
    }
   ],
   "source": [
    "# Sunny\tCold\tIndoor\n",
    "\n",
    "PYes = PY*PSunnyYes*PColdYes*PIndoorYes\n",
    "PNo = PN*PSunnyNo*PColdNo*PIndoorNo\n",
    "print(PYes)\n",
    "print(PNo)"
   ]
  },
  {
   "cell_type": "code",
   "execution_count": 23,
   "id": "cde9d61e",
   "metadata": {},
   "outputs": [],
   "source": [
    "# Ans No"
   ]
  },
  {
   "cell_type": "code",
   "execution_count": 24,
   "id": "84f73886",
   "metadata": {},
   "outputs": [
    {
     "data": {
      "text/plain": [
       "False"
      ]
     },
     "execution_count": 24,
     "metadata": {},
     "output_type": "execute_result"
    }
   ],
   "source": [
    "PYes>PNo"
   ]
  },
  {
   "cell_type": "code",
   "execution_count": null,
   "id": "c7c0c907",
   "metadata": {},
   "outputs": [],
   "source": []
  }
 ],
 "metadata": {
  "kernelspec": {
   "display_name": "Python 3",
   "language": "python",
   "name": "python3"
  },
  "language_info": {
   "codemirror_mode": {
    "name": "ipython",
    "version": 3
   },
   "file_extension": ".py",
   "mimetype": "text/x-python",
   "name": "python",
   "nbconvert_exporter": "python",
   "pygments_lexer": "ipython3",
   "version": "3.11.4"
  }
 },
 "nbformat": 4,
 "nbformat_minor": 5
}
