{
 "cells": [
  {
   "cell_type": "code",
   "execution_count": 1,
   "id": "c55b8e1a",
   "metadata": {},
   "outputs": [
    {
     "name": "stdout",
     "output_type": "stream",
     "text": [
      "Silhouette Score: 0.30880182864241373\n"
     ]
    }
   ],
   "source": [
    "from sklearn.metrics import silhouette_score\n",
    "\n",
    "# Sample data and cluster labels (replace with your own data and labels)\n",
    "data = [[1, 2], [2, 3], [2, 4], [3, 2], [6, 8], [6, 9], [7, 8]]\n",
    "labels = [0, 0, 1, 1, 2, 2, 2]  # Replace with your cluster labels\n",
    "\n",
    "# Calculate the silhouette score\n",
    "silhouette_avg = silhouette_score(data, labels)\n",
    "\n",
    "print(f\"Silhouette Score: {silhouette_avg}\")"
   ]
  },
  {
   "cell_type": "code",
   "execution_count": null,
   "id": "d21dee5d",
   "metadata": {},
   "outputs": [],
   "source": []
  }
 ],
 "metadata": {
  "kernelspec": {
   "display_name": "Python 3",
   "language": "python",
   "name": "python3"
  },
  "language_info": {
   "codemirror_mode": {
    "name": "ipython",
    "version": 3
   },
   "file_extension": ".py",
   "mimetype": "text/x-python",
   "name": "python",
   "nbconvert_exporter": "python",
   "pygments_lexer": "ipython3",
   "version": "3.11.4"
  }
 },
 "nbformat": 4,
 "nbformat_minor": 5
}
