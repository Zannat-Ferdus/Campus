{
 "cells": [
  {
   "cell_type": "code",
   "execution_count": 2,
   "id": "c37c21b1",
   "metadata": {},
   "outputs": [],
   "source": [
    "import numpy as np\n",
    "import pandas as pd\n",
    "import matplotlib.pyplot as plt"
   ]
  },
  {
   "cell_type": "code",
   "execution_count": 3,
   "id": "b0fa9fca",
   "metadata": {},
   "outputs": [
    {
     "data": {
      "text/html": [
       "<div>\n",
       "<style scoped>\n",
       "    .dataframe tbody tr th:only-of-type {\n",
       "        vertical-align: middle;\n",
       "    }\n",
       "\n",
       "    .dataframe tbody tr th {\n",
       "        vertical-align: top;\n",
       "    }\n",
       "\n",
       "    .dataframe thead th {\n",
       "        text-align: right;\n",
       "    }\n",
       "</style>\n",
       "<table border=\"1\" class=\"dataframe\">\n",
       "  <thead>\n",
       "    <tr style=\"text-align: right;\">\n",
       "      <th></th>\n",
       "      <th>User ID</th>\n",
       "      <th>Gender</th>\n",
       "      <th>Age</th>\n",
       "      <th>EstimatedSalary</th>\n",
       "      <th>Purchased</th>\n",
       "    </tr>\n",
       "  </thead>\n",
       "  <tbody>\n",
       "    <tr>\n",
       "      <th>0</th>\n",
       "      <td>15624510</td>\n",
       "      <td>Male</td>\n",
       "      <td>19</td>\n",
       "      <td>19000</td>\n",
       "      <td>0</td>\n",
       "    </tr>\n",
       "    <tr>\n",
       "      <th>1</th>\n",
       "      <td>15810944</td>\n",
       "      <td>Male</td>\n",
       "      <td>35</td>\n",
       "      <td>20000</td>\n",
       "      <td>0</td>\n",
       "    </tr>\n",
       "    <tr>\n",
       "      <th>2</th>\n",
       "      <td>15668575</td>\n",
       "      <td>Female</td>\n",
       "      <td>26</td>\n",
       "      <td>43000</td>\n",
       "      <td>0</td>\n",
       "    </tr>\n",
       "    <tr>\n",
       "      <th>3</th>\n",
       "      <td>15603246</td>\n",
       "      <td>Female</td>\n",
       "      <td>27</td>\n",
       "      <td>57000</td>\n",
       "      <td>0</td>\n",
       "    </tr>\n",
       "    <tr>\n",
       "      <th>4</th>\n",
       "      <td>15804002</td>\n",
       "      <td>Male</td>\n",
       "      <td>19</td>\n",
       "      <td>76000</td>\n",
       "      <td>0</td>\n",
       "    </tr>\n",
       "  </tbody>\n",
       "</table>\n",
       "</div>"
      ],
      "text/plain": [
       "    User ID  Gender  Age  EstimatedSalary  Purchased\n",
       "0  15624510    Male   19            19000          0\n",
       "1  15810944    Male   35            20000          0\n",
       "2  15668575  Female   26            43000          0\n",
       "3  15603246  Female   27            57000          0\n",
       "4  15804002    Male   19            76000          0"
      ]
     },
     "execution_count": 3,
     "metadata": {},
     "output_type": "execute_result"
    }
   ],
   "source": [
    "data=pd.read_csv('Social_Network_Ads.csv')\n",
    "data.head()"
   ]
  },
  {
   "cell_type": "code",
   "execution_count": 4,
   "id": "b83632e5",
   "metadata": {},
   "outputs": [],
   "source": [
    "X=data.iloc[:,2:4].values"
   ]
  },
  {
   "cell_type": "code",
   "execution_count": 5,
   "id": "b46638ea",
   "metadata": {},
   "outputs": [
    {
     "data": {
      "text/plain": [
       "(400, 2)"
      ]
     },
     "execution_count": 5,
     "metadata": {},
     "output_type": "execute_result"
    }
   ],
   "source": [
    "X.shape"
   ]
  },
  {
   "cell_type": "code",
   "execution_count": 6,
   "id": "661bd861",
   "metadata": {},
   "outputs": [],
   "source": [
    "y=data.iloc[:,-1].values"
   ]
  },
  {
   "cell_type": "code",
   "execution_count": 7,
   "id": "e0aac5ec",
   "metadata": {},
   "outputs": [
    {
     "data": {
      "text/plain": [
       "(400,)"
      ]
     },
     "execution_count": 7,
     "metadata": {},
     "output_type": "execute_result"
    }
   ],
   "source": [
    "y.shape"
   ]
  },
  {
   "cell_type": "code",
   "execution_count": 8,
   "id": "fd7b9a73",
   "metadata": {},
   "outputs": [],
   "source": [
    "from sklearn.model_selection import train_test_split\n",
    "X_train,X_test,y_train,y_test=train_test_split(X,y,test_size=0.20)"
   ]
  },
  {
   "cell_type": "code",
   "execution_count": 9,
   "id": "a7c99b7c",
   "metadata": {},
   "outputs": [],
   "source": [
    "from sklearn.preprocessing import StandardScaler\n",
    "scaler=StandardScaler()"
   ]
  },
  {
   "cell_type": "code",
   "execution_count": 12,
   "id": "6b266b0d",
   "metadata": {},
   "outputs": [
    {
     "data": {
      "text/plain": [
       "array([[ 0.01858989,  1.34914657],\n",
       "       [-0.26925361, -0.22000132],\n",
       "       [ 1.74565094,  1.07756328],\n",
       "       [ 0.88212042,  1.16809104],\n",
       "       [ 1.93754661, -1.36668632],\n",
       "       [ 1.6497031 ,  1.71125762],\n",
       "       [-0.74899279, -0.1898254 ],\n",
       "       [-1.80441899,  0.50422078],\n",
       "       [-1.51657548, -1.24598264],\n",
       "       [-1.22873197, -1.06492711],\n",
       "       [-0.84494063, -0.7631679 ],\n",
       "       [-0.07735794,  0.08175789],\n",
       "       [-1.61252332,  0.59474854],\n",
       "       [-1.61252332, -1.57791777],\n",
       "       [-1.13278414,  0.35334117],\n",
       "       [-0.26925361, -0.88387158],\n",
       "       [-0.26925361, -0.34070501],\n",
       "       [-0.84494063, -0.64246422],\n",
       "       [ 0.11453773,  0.14210973],\n",
       "       [-1.13278414, -0.49158461],\n",
       "       [-0.65304496, -1.60809369],\n",
       "       [ 0.40238124, -0.09929764],\n",
       "       [-1.0368363 ,  0.47404486],\n",
       "       [-0.94088847,  0.50422078],\n",
       "       [-0.46114929,  1.34914657],\n",
       "       [-0.17330578, -0.43123277],\n",
       "       [ 0.49832907,  1.31897065],\n",
       "       [-1.80441899, -1.30633448],\n",
       "       [ 1.36185959,  1.37932249],\n",
       "       [-0.07735794, -0.1898254 ],\n",
       "       [-1.80441899, -1.27615856],\n",
       "       [-1.0368363 ,  0.83615591],\n",
       "       [-1.42062764, -1.21580672],\n",
       "       [ 1.55375527,  1.07756328],\n",
       "       [-0.26925361, -0.55193645],\n",
       "       [ 1.55375527, -1.27615856],\n",
       "       [-0.74899279,  0.56457262],\n",
       "       [-1.13278414,  0.47404486],\n",
       "       [-0.65304496,  0.23263749],\n",
       "       [-0.26925361, -1.24598264],\n",
       "       [ 0.3064334 , -0.25017724],\n",
       "       [ 0.11453773,  0.08175789],\n",
       "       [-1.70847115,  0.41369302],\n",
       "       [ 1.07401609,  2.19407235],\n",
       "       [-1.13278414,  0.35334117],\n",
       "       [ 0.11453773,  0.20246157],\n",
       "       [ 0.88212042,  2.28460012],\n",
       "       [ 0.88212042, -1.36668632],\n",
       "       [ 0.40238124,  2.43547972],\n",
       "       [ 0.40238124,  0.35334117],\n",
       "       [-1.0368363 , -0.31052909],\n",
       "       [-1.42062764, -0.15964948],\n",
       "       [ 0.21048556, -0.34070501],\n",
       "       [-0.07735794,  2.07336867],\n",
       "       [ 0.69022474, -1.27615856],\n",
       "       [ 0.21048556, -0.22000132],\n",
       "       [-1.0368363 ,  2.07336867],\n",
       "       [-0.07735794,  2.34495196],\n",
       "       [-0.07735794, -0.46140869],\n",
       "       [ 0.78617258, -0.28035317],\n",
       "       [-1.42062764, -0.6122883 ],\n",
       "       [ 1.6497031 ,  1.86213722],\n",
       "       [-1.32467981, -1.24598264],\n",
       "       [ 0.3064334 , -0.52176053],\n",
       "       [-0.55709712,  1.46985025],\n",
       "       [ 1.07401609,  0.17228565],\n",
       "       [ 1.6497031 , -0.88387158],\n",
       "       [-1.13278414,  0.11193381],\n",
       "       [ 0.97806825,  2.10354459],\n",
       "       [-1.13278414, -1.15545487],\n",
       "       [ 0.3064334 ,  0.11193381],\n",
       "       [ 0.21048556,  2.22424827],\n",
       "       [-0.74899279,  0.35334117],\n",
       "       [ 0.01858989, -0.55193645],\n",
       "       [-0.74899279, -1.54774185],\n",
       "       [ 1.84159877,  0.17228565],\n",
       "       [-1.51657548, -1.51756593],\n",
       "       [ 0.40238124,  0.14210973],\n",
       "       [ 0.01858989,  0.35334117],\n",
       "       [-1.90036682,  0.41369302],\n",
       "       [-1.0368363 , -1.12527895],\n",
       "       [ 0.78617258,  0.83615591],\n",
       "       [ 0.97806825, -1.00457527],\n",
       "       [ 0.40238124, -0.12947356],\n",
       "       [-1.32467981, -1.36668632],\n",
       "       [-0.26925361,  0.59474854],\n",
       "       [-0.26925361,  0.68527631],\n",
       "       [-1.13278414, -1.60809369],\n",
       "       [-0.17330578, -0.25017724],\n",
       "       [ 0.59427691, -0.88387158],\n",
       "       [ 1.26591176,  2.34495196],\n",
       "       [ 2.12944228,  1.19826696],\n",
       "       [ 2.12944228,  1.01721144],\n",
       "       [-0.94088847, -0.28035317],\n",
       "       [-0.17330578,  0.20246157],\n",
       "       [ 0.01858989, -0.40105685],\n",
       "       [-0.65304496,  0.08175789],\n",
       "       [ 1.16996392,  0.59474854],\n",
       "       [-0.26925361, -0.46140869],\n",
       "       [ 0.69022474,  1.89231314],\n",
       "       [-0.65304496,  1.50002617],\n",
       "       [-0.74899279, -0.58211238],\n",
       "       [-0.26925361, -0.09929764],\n",
       "       [-1.0368363 ,  0.59474854],\n",
       "       [ 0.88212042, -0.55193645],\n",
       "       [-0.46114929, -0.82351974],\n",
       "       [ 0.3064334 ,  0.35334117],\n",
       "       [ 0.78617258,  0.17228565],\n",
       "       [ 0.3064334 , -0.49158461],\n",
       "       [-1.42062764,  0.41369302],\n",
       "       [ 1.16996392, -0.73299198],\n",
       "       [ 0.01858989, -0.09929764],\n",
       "       [ 0.11453773,  0.26281341],\n",
       "       [ 2.12944228, -0.79334382],\n",
       "       [ 1.07401609,  0.59474854],\n",
       "       [ 0.11453773, -0.79334382],\n",
       "       [-0.55709712,  0.95685959],\n",
       "       [ 0.21048556, -0.64246422],\n",
       "       [-1.0368363 ,  0.62492446],\n",
       "       [-1.32467981,  0.62492446],\n",
       "       [-0.94088847, -0.40105685],\n",
       "       [-0.07735794,  0.29298933],\n",
       "       [-0.26925361,  0.11193381],\n",
       "       [ 0.97806825, -0.82351974],\n",
       "       [ 1.84159877, -1.27615856],\n",
       "       [ 0.40238124, -0.43123277],\n",
       "       [ 2.03349445,  0.23263749],\n",
       "       [ 0.78617258, -1.39686224],\n",
       "       [-1.70847115,  0.41369302],\n",
       "       [ 0.11453773, -0.79334382],\n",
       "       [-0.26925361,  0.86633183],\n",
       "       [-0.36520145, -1.30633448],\n",
       "       [-0.07735794,  0.11193381],\n",
       "       [-0.94088847,  1.65090578],\n",
       "       [-1.0368363 ,  0.65510038],\n",
       "       [-1.32467981, -0.31052909],\n",
       "       [ 0.40238124, -0.09929764],\n",
       "       [-0.07735794,  0.26281341],\n",
       "       [-0.84494063,  2.4053038 ],\n",
       "       [ 0.01858989,  0.08175789],\n",
       "       [ 0.3064334 ,  0.08175789],\n",
       "       [-0.26925361,  2.37512788],\n",
       "       [-0.07735794, -0.34070501],\n",
       "       [-0.46114929, -0.7631679 ],\n",
       "       [-0.07735794,  0.74562815],\n",
       "       [ 1.07401609, -0.97439935],\n",
       "       [-0.07735794,  0.20246157],\n",
       "       [ 0.59427691,  2.13372051],\n",
       "       [-0.17330578,  0.92668367],\n",
       "       [ 1.45780743,  0.41369302],\n",
       "       [-0.26925361, -0.28035317],\n",
       "       [ 0.88212042, -1.03475119],\n",
       "       [ 1.84159877,  1.62072985],\n",
       "       [ 0.97806825, -1.06492711],\n",
       "       [-0.26925361,  0.14210973],\n",
       "       [ 0.88212042, -1.45721408],\n",
       "       [-0.84494063, -0.7631679 ],\n",
       "       [-0.26925361, -0.55193645],\n",
       "       [-0.74899279,  0.62492446],\n",
       "       [-0.36520145,  1.40949841],\n",
       "       [-0.26925361,  0.11193381],\n",
       "       [-0.26925361, -1.36668632],\n",
       "       [ 0.69022474, -1.39686224],\n",
       "       [ 0.40238124,  0.35334117],\n",
       "       [ 1.45780743,  0.11193381],\n",
       "       [ 1.45780743,  1.07756328],\n",
       "       [ 2.03349445,  2.25442419],\n",
       "       [-0.17330578,  1.74143354],\n",
       "       [ 0.49832907,  1.8319613 ],\n",
       "       [ 0.88212042, -0.58211238],\n",
       "       [-0.84494063,  0.20246157],\n",
       "       [-0.94088847, -0.28035317],\n",
       "       [ 0.3064334 ,  0.11193381],\n",
       "       [-0.65304496, -0.06912172],\n",
       "       [-0.84494063,  0.44386894],\n",
       "       [ 1.45780743, -1.03475119],\n",
       "       [ 1.93754661, -0.64246422],\n",
       "       [ 0.69022474, -1.39686224],\n",
       "       [ 2.12944228, -1.03475119],\n",
       "       [-1.70847115,  0.5343967 ],\n",
       "       [-0.55709712,  0.5343967 ],\n",
       "       [-0.46114929,  0.02140604],\n",
       "       [-1.32467981, -0.40105685],\n",
       "       [ 1.07401609,  0.5343967 ],\n",
       "       [ 0.97806825,  0.17228565],\n",
       "       [-0.26925361, -0.64246422],\n",
       "       [-0.55709712,  1.46985025],\n",
       "       [ 2.03349445,  0.59474854],\n",
       "       [ 0.3064334 , -0.49158461],\n",
       "       [-0.55709712,  2.01301683],\n",
       "       [-0.65304496, -0.00876988],\n",
       "       [-0.26925361,  0.20246157],\n",
       "       [-1.61252332, -0.00876988],\n",
       "       [-0.94088847,  0.32316525],\n",
       "       [-0.65304496, -0.31052909],\n",
       "       [ 0.88212042, -0.64246422],\n",
       "       [-0.36520145,  0.11193381],\n",
       "       [-0.65304496,  0.17228565],\n",
       "       [ 1.07401609, -1.21580672],\n",
       "       [ 1.93754661,  0.98703551],\n",
       "       [-0.46114929, -0.52176053],\n",
       "       [ 0.40238124,  1.19826696],\n",
       "       [ 0.11453773,  1.62072985],\n",
       "       [-0.55709712, -1.51756593],\n",
       "       [-0.46114929, -0.25017724],\n",
       "       [-1.13278414,  1.50002617],\n",
       "       [ 0.49832907,  1.95266499],\n",
       "       [ 0.21048556, -0.34070501],\n",
       "       [-0.26925361, -0.40105685],\n",
       "       [ 0.21048556, -0.09929764],\n",
       "       [-1.22873197,  0.56457262],\n",
       "       [-0.26925361,  0.26281341],\n",
       "       [-1.22873197, -1.39686224],\n",
       "       [ 1.36185959,  0.65510038],\n",
       "       [ 1.16996392, -1.45721408],\n",
       "       [ 1.84159877, -0.25017724],\n",
       "       [ 0.40238124,  0.32316525],\n",
       "       [-0.26925361, -0.73299198],\n",
       "       [ 1.26591176, -1.36668632],\n",
       "       [-1.22873197,  0.32316525],\n",
       "       [-0.26925361, -0.91404751],\n",
       "       [-0.46114929, -1.21580672],\n",
       "       [ 0.3064334 ,  0.56457262],\n",
       "       [-0.46114929, -1.12527895],\n",
       "       [-1.0368363 , -1.54774185],\n",
       "       [-1.13278414, -1.00457527],\n",
       "       [ 1.93754661, -0.91404751],\n",
       "       [-1.80441899, -1.48739   ],\n",
       "       [ 0.3064334 , -0.15964948],\n",
       "       [ 0.21048556,  0.29298933],\n",
       "       [-1.0368363 , -0.31052909],\n",
       "       [ 0.3064334 ,  0.11193381],\n",
       "       [-0.26925361, -0.31052909],\n",
       "       [ 0.11453773, -0.22000132],\n",
       "       [ 0.69022474, -0.70281606],\n",
       "       [ 0.69022474,  0.32316525],\n",
       "       [ 0.40238124, -0.43123277],\n",
       "       [ 0.40238124,  1.07756328],\n",
       "       [ 0.97806825, -1.18563079],\n",
       "       [-0.36520145, -0.7631679 ],\n",
       "       [-0.74899279,  0.32316525],\n",
       "       [-0.74899279,  1.16809104],\n",
       "       [ 2.03349445, -1.18563079],\n",
       "       [-0.65304496, -1.51756593],\n",
       "       [ 1.07401609, -0.88387158],\n",
       "       [ 0.40238124,  0.05158196],\n",
       "       [ 1.16996392, -0.97439935],\n",
       "       [-0.07735794, -0.49158461],\n",
       "       [-0.17330578, -1.06492711],\n",
       "       [ 0.97806825,  1.53020209],\n",
       "       [ 0.01858989, -0.22000132],\n",
       "       [ 1.84159877, -1.06492711],\n",
       "       [ 0.3064334 ,  0.11193381],\n",
       "       [ 0.88212042, -1.30633448],\n",
       "       [-1.32467981, -1.09510303],\n",
       "       [ 0.11453773,  0.32316525],\n",
       "       [-0.94088847,  0.47404486],\n",
       "       [ 0.40238124,  0.65510038],\n",
       "       [-0.17330578,  1.50002617],\n",
       "       [ 0.21048556, -0.25017724],\n",
       "       [-0.07735794,  0.35334117],\n",
       "       [-1.70847115, -0.58211238],\n",
       "       [ 2.03349445, -0.79334382],\n",
       "       [-1.13278414, -1.54774185],\n",
       "       [ 0.97806825,  0.65510038],\n",
       "       [-1.0368363 , -1.45721408],\n",
       "       [ 0.01858989,  0.08175789],\n",
       "       [-0.94088847, -0.73299198],\n",
       "       [-0.74899279,  1.43967433],\n",
       "       [ 0.01858989,  1.31897065],\n",
       "       [-0.94088847, -0.94422343],\n",
       "       [ 0.3064334 , -0.28035317],\n",
       "       [ 0.40238124, -0.46140869],\n",
       "       [ 1.45780743,  2.25442419],\n",
       "       [ 1.07401609, -1.21580672],\n",
       "       [ 0.01858989, -0.55193645],\n",
       "       [ 1.55375527,  1.19826696],\n",
       "       [-0.65304496, -1.03475119],\n",
       "       [-0.17330578, -0.15964948],\n",
       "       [-0.94088847, -1.09510303],\n",
       "       [-1.90036682, -0.00876988],\n",
       "       [ 0.21048556,  0.20246157],\n",
       "       [ 1.36185959, -0.91404751],\n",
       "       [-1.13278414, -1.60809369],\n",
       "       [ 0.78617258,  0.41369302],\n",
       "       [ 0.21048556,  0.11193381],\n",
       "       [ 1.55375527,  0.05158196],\n",
       "       [ 0.78617258, -1.21580672],\n",
       "       [-0.17330578,  2.28460012],\n",
       "       [-1.22873197,  0.35334117],\n",
       "       [-1.13278414,  0.3835171 ],\n",
       "       [-0.94088847,  0.62492446],\n",
       "       [ 0.11453773,  1.98284091],\n",
       "       [ 1.36185959,  2.10354459],\n",
       "       [ 0.78617258,  0.32316525],\n",
       "       [ 1.07401609, -0.09929764],\n",
       "       [ 2.03349445,  1.86213722],\n",
       "       [ 0.11453773, -0.28035317],\n",
       "       [ 0.01858989, -0.28035317],\n",
       "       [-0.07735794, -0.40105685],\n",
       "       [-1.90036682,  0.5343967 ],\n",
       "       [ 0.88212042, -1.15545487],\n",
       "       [ 0.97806825, -1.15545487],\n",
       "       [-1.61252332,  0.11193381],\n",
       "       [-1.90036682, -0.49158461],\n",
       "       [ 0.69022474, -1.09510303],\n",
       "       [ 1.36185959, -1.42703816],\n",
       "       [ 0.78617258, -1.09510303],\n",
       "       [-1.51657548, -0.40105685],\n",
       "       [-0.65304496,  0.62492446],\n",
       "       [ 0.78617258, -1.36668632],\n",
       "       [ 0.01858989, -0.22000132],\n",
       "       [-0.74899279, -1.60809369],\n",
       "       [ 2.03349445,  0.44386894],\n",
       "       [-1.70847115, -1.36668632],\n",
       "       [ 0.11453773,  0.08175789],\n",
       "       [ 0.97806825,  2.19407235],\n",
       "       [-1.70847115, -0.97439935],\n",
       "       [-1.70847115,  0.17228565],\n",
       "       [-0.26925361,  0.32316525]])"
      ]
     },
     "execution_count": 12,
     "metadata": {},
     "output_type": "execute_result"
    }
   ],
   "source": [
    "X_train=scaler.fit_transform(X_train)\n",
    "X_train"
   ]
  },
  {
   "cell_type": "code",
   "execution_count": 13,
   "id": "7d66ca9d",
   "metadata": {},
   "outputs": [
    {
     "data": {
      "text/plain": [
       "array([[2.30e+01, 2.00e+04],\n",
       "       [4.80e+01, 9.60e+04],\n",
       "       [4.00e+01, 7.50e+04],\n",
       "       [3.70e+01, 8.00e+04],\n",
       "       [4.80e+01, 3.30e+04],\n",
       "       [4.10e+01, 7.90e+04],\n",
       "       [4.00e+01, 7.10e+04],\n",
       "       [4.00e+01, 1.07e+05],\n",
       "       [4.60e+01, 4.10e+04],\n",
       "       [5.80e+01, 9.50e+04],\n",
       "       [4.10e+01, 4.50e+04],\n",
       "       [3.00e+01, 1.35e+05],\n",
       "       [2.60e+01, 4.30e+04],\n",
       "       [3.70e+01, 7.90e+04],\n",
       "       [1.90e+01, 7.60e+04],\n",
       "       [4.70e+01, 1.13e+05],\n",
       "       [2.90e+01, 8.30e+04],\n",
       "       [3.70e+01, 1.44e+05],\n",
       "       [2.60e+01, 8.60e+04],\n",
       "       [3.60e+01, 1.25e+05],\n",
       "       [5.80e+01, 1.44e+05],\n",
       "       [2.30e+01, 6.60e+04],\n",
       "       [4.90e+01, 8.90e+04],\n",
       "       [3.40e+01, 4.30e+04],\n",
       "       [3.60e+01, 5.20e+04],\n",
       "       [2.90e+01, 2.80e+04],\n",
       "       [4.60e+01, 1.17e+05],\n",
       "       [3.70e+01, 3.30e+04],\n",
       "       [4.80e+01, 1.31e+05],\n",
       "       [2.40e+01, 5.50e+04],\n",
       "       [2.50e+01, 9.00e+04],\n",
       "       [3.50e+01, 2.20e+04],\n",
       "       [3.20e+01, 1.20e+05],\n",
       "       [5.60e+01, 6.00e+04],\n",
       "       [3.50e+01, 7.10e+04],\n",
       "       [3.60e+01, 5.00e+04],\n",
       "       [2.70e+01, 5.40e+04],\n",
       "       [5.20e+01, 1.50e+05],\n",
       "       [3.90e+01, 1.34e+05],\n",
       "       [4.00e+01, 5.70e+04],\n",
       "       [4.10e+01, 3.00e+04],\n",
       "       [1.90e+01, 7.00e+04],\n",
       "       [3.90e+01, 9.60e+04],\n",
       "       [3.50e+01, 2.00e+04],\n",
       "       [4.00e+01, 5.90e+04],\n",
       "       [2.90e+01, 6.10e+04],\n",
       "       [2.40e+01, 8.40e+04],\n",
       "       [2.20e+01, 8.10e+04],\n",
       "       [3.40e+01, 1.12e+05],\n",
       "       [4.20e+01, 7.50e+04],\n",
       "       [3.70e+01, 7.40e+04],\n",
       "       [4.70e+01, 4.30e+04],\n",
       "       [3.20e+01, 1.50e+05],\n",
       "       [1.80e+01, 4.40e+04],\n",
       "       [3.50e+01, 7.50e+04],\n",
       "       [3.80e+01, 5.10e+04],\n",
       "       [1.90e+01, 2.10e+04],\n",
       "       [3.20e+01, 1.80e+04],\n",
       "       [3.50e+01, 2.50e+04],\n",
       "       [3.30e+01, 1.49e+05],\n",
       "       [6.00e+01, 8.30e+04],\n",
       "       [3.70e+01, 7.00e+04],\n",
       "       [2.70e+01, 5.70e+04],\n",
       "       [3.50e+01, 6.00e+04],\n",
       "       [3.90e+01, 1.06e+05],\n",
       "       [2.80e+01, 8.70e+04],\n",
       "       [2.60e+01, 3.20e+04],\n",
       "       [6.00e+01, 4.20e+04],\n",
       "       [5.10e+01, 1.34e+05],\n",
       "       [3.50e+01, 1.08e+05],\n",
       "       [2.90e+01, 8.00e+04],\n",
       "       [4.60e+01, 8.80e+04],\n",
       "       [2.20e+01, 6.30e+04],\n",
       "       [4.70e+01, 5.10e+04],\n",
       "       [2.40e+01, 1.90e+04],\n",
       "       [4.70e+01, 1.05e+05],\n",
       "       [6.00e+01, 4.60e+04],\n",
       "       [2.60e+01, 1.60e+04],\n",
       "       [5.60e+01, 1.33e+05],\n",
       "       [4.80e+01, 1.34e+05]])"
      ]
     },
     "execution_count": 13,
     "metadata": {},
     "output_type": "execute_result"
    }
   ],
   "source": [
    "X_test=scaler.transform(X_test)\n",
    "X_test"
   ]
  },
  {
   "cell_type": "code",
   "execution_count": 14,
   "id": "deade2a8",
   "metadata": {},
   "outputs": [
    {
     "data": {
      "text/plain": [
       "17.88854381999832"
      ]
     },
     "execution_count": 14,
     "metadata": {},
     "output_type": "execute_result"
    }
   ],
   "source": [
    "np.sqrt(X_train.shape[0])"
   ]
  },
  {
   "cell_type": "code",
   "execution_count": 15,
   "id": "c3694fa1",
   "metadata": {},
   "outputs": [],
   "source": [
    "#k=17"
   ]
  },
  {
   "cell_type": "code",
   "execution_count": 28,
   "id": "37dcdffc",
   "metadata": {},
   "outputs": [],
   "source": [
    "from sklearn.neighbors import KNeighborsClassifier\n",
    "knn=KNeighborsClassifier(n_neighbors=17)"
   ]
  },
  {
   "cell_type": "code",
   "execution_count": 29,
   "id": "a9b0213b",
   "metadata": {},
   "outputs": [
    {
     "data": {
      "text/html": [
       "<style>#sk-container-id-2 {color: black;}#sk-container-id-2 pre{padding: 0;}#sk-container-id-2 div.sk-toggleable {background-color: white;}#sk-container-id-2 label.sk-toggleable__label {cursor: pointer;display: block;width: 100%;margin-bottom: 0;padding: 0.3em;box-sizing: border-box;text-align: center;}#sk-container-id-2 label.sk-toggleable__label-arrow:before {content: \"▸\";float: left;margin-right: 0.25em;color: #696969;}#sk-container-id-2 label.sk-toggleable__label-arrow:hover:before {color: black;}#sk-container-id-2 div.sk-estimator:hover label.sk-toggleable__label-arrow:before {color: black;}#sk-container-id-2 div.sk-toggleable__content {max-height: 0;max-width: 0;overflow: hidden;text-align: left;background-color: #f0f8ff;}#sk-container-id-2 div.sk-toggleable__content pre {margin: 0.2em;color: black;border-radius: 0.25em;background-color: #f0f8ff;}#sk-container-id-2 input.sk-toggleable__control:checked~div.sk-toggleable__content {max-height: 200px;max-width: 100%;overflow: auto;}#sk-container-id-2 input.sk-toggleable__control:checked~label.sk-toggleable__label-arrow:before {content: \"▾\";}#sk-container-id-2 div.sk-estimator input.sk-toggleable__control:checked~label.sk-toggleable__label {background-color: #d4ebff;}#sk-container-id-2 div.sk-label input.sk-toggleable__control:checked~label.sk-toggleable__label {background-color: #d4ebff;}#sk-container-id-2 input.sk-hidden--visually {border: 0;clip: rect(1px 1px 1px 1px);clip: rect(1px, 1px, 1px, 1px);height: 1px;margin: -1px;overflow: hidden;padding: 0;position: absolute;width: 1px;}#sk-container-id-2 div.sk-estimator {font-family: monospace;background-color: #f0f8ff;border: 1px dotted black;border-radius: 0.25em;box-sizing: border-box;margin-bottom: 0.5em;}#sk-container-id-2 div.sk-estimator:hover {background-color: #d4ebff;}#sk-container-id-2 div.sk-parallel-item::after {content: \"\";width: 100%;border-bottom: 1px solid gray;flex-grow: 1;}#sk-container-id-2 div.sk-label:hover label.sk-toggleable__label {background-color: #d4ebff;}#sk-container-id-2 div.sk-serial::before {content: \"\";position: absolute;border-left: 1px solid gray;box-sizing: border-box;top: 0;bottom: 0;left: 50%;z-index: 0;}#sk-container-id-2 div.sk-serial {display: flex;flex-direction: column;align-items: center;background-color: white;padding-right: 0.2em;padding-left: 0.2em;position: relative;}#sk-container-id-2 div.sk-item {position: relative;z-index: 1;}#sk-container-id-2 div.sk-parallel {display: flex;align-items: stretch;justify-content: center;background-color: white;position: relative;}#sk-container-id-2 div.sk-item::before, #sk-container-id-2 div.sk-parallel-item::before {content: \"\";position: absolute;border-left: 1px solid gray;box-sizing: border-box;top: 0;bottom: 0;left: 50%;z-index: -1;}#sk-container-id-2 div.sk-parallel-item {display: flex;flex-direction: column;z-index: 1;position: relative;background-color: white;}#sk-container-id-2 div.sk-parallel-item:first-child::after {align-self: flex-end;width: 50%;}#sk-container-id-2 div.sk-parallel-item:last-child::after {align-self: flex-start;width: 50%;}#sk-container-id-2 div.sk-parallel-item:only-child::after {width: 0;}#sk-container-id-2 div.sk-dashed-wrapped {border: 1px dashed gray;margin: 0 0.4em 0.5em 0.4em;box-sizing: border-box;padding-bottom: 0.4em;background-color: white;}#sk-container-id-2 div.sk-label label {font-family: monospace;font-weight: bold;display: inline-block;line-height: 1.2em;}#sk-container-id-2 div.sk-label-container {text-align: center;}#sk-container-id-2 div.sk-container {/* jupyter's `normalize.less` sets `[hidden] { display: none; }` but bootstrap.min.css set `[hidden] { display: none !important; }` so we also need the `!important` here to be able to override the default hidden behavior on the sphinx rendered scikit-learn.org. See: https://github.com/scikit-learn/scikit-learn/issues/21755 */display: inline-block !important;position: relative;}#sk-container-id-2 div.sk-text-repr-fallback {display: none;}</style><div id=\"sk-container-id-2\" class=\"sk-top-container\"><div class=\"sk-text-repr-fallback\"><pre>KNeighborsClassifier(n_neighbors=17)</pre><b>In a Jupyter environment, please rerun this cell to show the HTML representation or trust the notebook. <br />On GitHub, the HTML representation is unable to render, please try loading this page with nbviewer.org.</b></div><div class=\"sk-container\" hidden><div class=\"sk-item\"><div class=\"sk-estimator sk-toggleable\"><input class=\"sk-toggleable__control sk-hidden--visually\" id=\"sk-estimator-id-2\" type=\"checkbox\" checked><label for=\"sk-estimator-id-2\" class=\"sk-toggleable__label sk-toggleable__label-arrow\">KNeighborsClassifier</label><div class=\"sk-toggleable__content\"><pre>KNeighborsClassifier(n_neighbors=17)</pre></div></div></div></div></div>"
      ],
      "text/plain": [
       "KNeighborsClassifier(n_neighbors=17)"
      ]
     },
     "execution_count": 29,
     "metadata": {},
     "output_type": "execute_result"
    }
   ],
   "source": [
    "knn.fit(X_train,y_train)"
   ]
  },
  {
   "cell_type": "code",
   "execution_count": 30,
   "id": "5d684c58",
   "metadata": {},
   "outputs": [],
   "source": [
    "y_pred=knn.predict(X_test)"
   ]
  },
  {
   "cell_type": "code",
   "execution_count": 31,
   "id": "8dc1b3c7",
   "metadata": {},
   "outputs": [
    {
     "data": {
      "text/plain": [
       "(80,)"
      ]
     },
     "execution_count": 31,
     "metadata": {},
     "output_type": "execute_result"
    }
   ],
   "source": [
    "y_pred.shape"
   ]
  },
  {
   "cell_type": "code",
   "execution_count": 32,
   "id": "2202eda5",
   "metadata": {},
   "outputs": [
    {
     "data": {
      "text/plain": [
       "(80,)"
      ]
     },
     "execution_count": 32,
     "metadata": {},
     "output_type": "execute_result"
    }
   ],
   "source": [
    "y_test.shape"
   ]
  },
  {
   "cell_type": "code",
   "execution_count": 33,
   "id": "f2ca47d2",
   "metadata": {},
   "outputs": [
    {
     "data": {
      "text/plain": [
       "0.4125"
      ]
     },
     "execution_count": 33,
     "metadata": {},
     "output_type": "execute_result"
    }
   ],
   "source": [
    "from sklearn.metrics import accuracy_score\n",
    "accuracy_score(y_test,y_pred)"
   ]
  },
  {
   "cell_type": "code",
   "execution_count": 34,
   "id": "a6efa7be",
   "metadata": {},
   "outputs": [
    {
     "data": {
      "text/plain": [
       "array([[ 0, 47],\n",
       "       [ 0, 33]], dtype=int64)"
      ]
     },
     "execution_count": 34,
     "metadata": {},
     "output_type": "execute_result"
    }
   ],
   "source": [
    "from sklearn.metrics import confusion_matrix\n",
    "confusion_matrix(y_test,y_pred)"
   ]
  },
  {
   "cell_type": "code",
   "execution_count": 48,
   "id": "c8d3219c",
   "metadata": {},
   "outputs": [
    {
     "name": "stdout",
     "output_type": "stream",
     "text": [
      "[0.4125, 0.4125, 0.4125, 0.4125, 0.4125, 0.4125, 0.4125, 0.4125, 0.4125, 0.4125, 0.4125, 0.4125, 0.4125, 0.4125, 0.4125, 0.4125, 0.4125, 0.4125, 0.4125, 0.4125, 0.4125, 0.4125, 0.4125, 0.4125, 0.4125]\n"
     ]
    },
    {
     "data": {
      "image/png": "[encoded data removed]",
      "text/plain": [
       "<Figure size 800x600 with 1 Axes>"
      ]
     },
     "metadata": {},
     "output_type": "display_data"
    }
   ],
   "source": [
    "from sklearn import metrics\n",
    "from sklearn.metrics import classification_report\n",
    "from sklearn.metrics import confusion_matrix,accuracy_score\n",
    "k_range = range(1, 26)\n",
    "\n",
    "# We can create Python dictionary using [] or dict()\n",
    "#Method2\n",
    "scores = []\n",
    "\n",
    "# We use a loop through the range 1 to 26\n",
    "# We append the scores in the dictionary\n",
    "for k in k_range:\n",
    "    knn3 = KNeighborsClassifier(n_neighbors=k)\n",
    "    knn3.fit(X_train, y_train)\n",
    "    y_pred1 = knn3.predict(X_test)\n",
    "    #accuracy = knn3.score(X_test, y_test)\n",
    "    scores.append(metrics.accuracy_score(y_test, y_pred1))\n",
    "    #scores.append(accuracy)\n",
    "\n",
    "print(scores)\n",
    "\n",
    "\n",
    "# Create a plot to visualize the accuracy vs. K\n",
    "plt.figure(figsize=(8, 6))\n",
    "plt.plot(k_range, scores, marker='o', linestyle='-', color='b')\n",
    "plt.xlabel('Number of Neighbors (K)')\n",
    "plt.ylabel('Accuracy')\n",
    "plt.title('KNN Accuracy vs. K')\n",
    "plt.grid(True)\n",
    "plt.show()\n",
    "\n"
   ]
  },
  {
   "cell_type": "code",
   "execution_count": 49,
   "id": "ceddde77",
   "metadata": {},
   "outputs": [
    {
     "data": {
      "text/plain": [
       "[<matplotlib.lines.Line2D at 0x1bd59aa8590>]"
      ]
     },
     "execution_count": 49,
     "metadata": {},
     "output_type": "execute_result"
    },
    {
     "data": {
      "image/png": "[encoded data removed]",
      "text/plain": [
       "<Figure size 640x480 with 1 Axes>"
      ]
     },
     "metadata": {},
     "output_type": "display_data"
    }
   ],
   "source": [
    "plt.plot(k_range, scores,'go--')"
   ]
  },
  {
   "cell_type": "code",
   "execution_count": 44,
   "id": "7ad59631",
   "metadata": {},
   "outputs": [
    {
     "name": "stdout",
     "output_type": "stream",
     "text": [
      "Requirement already satisfied: kneed in c:\\users\\user\\anaconda3\\lib\\site-packages (0.8.5)\n",
      "Requirement already satisfied: numpy>=1.14.2 in c:\\users\\user\\anaconda3\\lib\\site-packages (from kneed) (1.24.3)\n",
      "Requirement already satisfied: scipy>=1.0.0 in c:\\users\\user\\anaconda3\\lib\\site-packages (from kneed) (1.10.1)\n"
     ]
    }
   ],
   "source": [
    "!pip install kneed"
   ]
  },
  {
   "cell_type": "code",
   "execution_count": 45,
   "id": "671202ec",
   "metadata": {},
   "outputs": [],
   "source": [
    "from kneed import KneeLocator"
   ]
  },
  {
   "cell_type": "code",
   "execution_count": 46,
   "id": "ce16442d",
   "metadata": {},
   "outputs": [
    {
     "name": "stderr",
     "output_type": "stream",
     "text": [
      "C:\\Users\\User\\anaconda3\\Lib\\site-packages\\kneed\\knee_locator.py:225: RuntimeWarning: invalid value encountered in divide\n",
      "  return (a - min(a)) / (max(a) - min(a))\n"
     ]
    }
   ],
   "source": [
    "kn = KneeLocator(k_range, scores, curve='convex',direction='decreasing')"
   ]
  },
  {
   "cell_type": "code",
   "execution_count": 47,
   "id": "0fc70b80",
   "metadata": {},
   "outputs": [],
   "source": [
    "kn.knee"
   ]
  },
  {
   "cell_type": "code",
   "execution_count": 41,
   "id": "86b111aa",
   "metadata": {},
   "outputs": [
    {
     "name": "stderr",
     "output_type": "stream",
     "text": [
      "C:\\Users\\User\\anaconda3\\Lib\\site-packages\\matplotlib\\axes\\_axes.py:1183: RuntimeWarning: All-NaN axis encountered\n",
      "  minx = np.nanmin(masked_verts[..., 0])\n",
      "C:\\Users\\User\\anaconda3\\Lib\\site-packages\\matplotlib\\axes\\_axes.py:1184: RuntimeWarning: All-NaN axis encountered\n",
      "  maxx = np.nanmax(masked_verts[..., 0])\n"
     ]
    },
    {
     "data": {
      "image/png": "[encoded data removed]",
      "text/plain": [
       "<Figure size 600x600 with 1 Axes>"
      ]
     },
     "metadata": {},
     "output_type": "display_data"
    }
   ],
   "source": [
    "kn.plot_knee()"
   ]
  },
  {
   "cell_type": "code",
   "execution_count": null,
   "id": "9724db85",
   "metadata": {},
   "outputs": [],
   "source": []
  }
 ],
 "metadata": {
  "kernelspec": {
   "display_name": "Python 3",
   "language": "python",
   "name": "python3"
  },
  "language_info": {
   "codemirror_mode": {
    "name": "ipython",
    "version": 3
   },
   "file_extension": ".py",
   "mimetype": "text/x-python",
   "name": "python",
   "nbconvert_exporter": "python",
   "pygments_lexer": "ipython3",
   "version": "3.11.4"
  }
 },
 "nbformat": 4,
 "nbformat_minor": 5
}
