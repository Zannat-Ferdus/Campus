{
 "cells": [
  {
   "cell_type": "code",
   "execution_count": 1,
   "id": "c37c21b1",
   "metadata": {},
   "outputs": [],
   "source": [
    "import numpy as np\n",
    "import pandas as pd\n",
    "import matplotlib.pyplot as plt"
   ]
  },
  {
   "cell_type": "code",
   "execution_count": 2,
   "id": "b0fa9fca",
   "metadata": {},
   "outputs": [
    {
     "data": {
      "text/html": [
       "<div>\n",
       "<style scoped>\n",
       "    .dataframe tbody tr th:only-of-type {\n",
       "        vertical-align: middle;\n",
       "    }\n",
       "\n",
       "    .dataframe tbody tr th {\n",
       "        vertical-align: top;\n",
       "    }\n",
       "\n",
       "    .dataframe thead th {\n",
       "        text-align: right;\n",
       "    }\n",
       "</style>\n",
       "<table border=\"1\" class=\"dataframe\">\n",
       "  <thead>\n",
       "    <tr style=\"text-align: right;\">\n",
       "      <th></th>\n",
       "      <th>User ID</th>\n",
       "      <th>Gender</th>\n",
       "      <th>Age</th>\n",
       "      <th>EstimatedSalary</th>\n",
       "      <th>Purchased</th>\n",
       "    </tr>\n",
       "  </thead>\n",
       "  <tbody>\n",
       "    <tr>\n",
       "      <th>0</th>\n",
       "      <td>15624510</td>\n",
       "      <td>Male</td>\n",
       "      <td>19</td>\n",
       "      <td>19000</td>\n",
       "      <td>0</td>\n",
       "    </tr>\n",
       "    <tr>\n",
       "      <th>1</th>\n",
       "      <td>15810944</td>\n",
       "      <td>Male</td>\n",
       "      <td>35</td>\n",
       "      <td>20000</td>\n",
       "      <td>0</td>\n",
       "    </tr>\n",
       "    <tr>\n",
       "      <th>2</th>\n",
       "      <td>15668575</td>\n",
       "      <td>Female</td>\n",
       "      <td>26</td>\n",
       "      <td>43000</td>\n",
       "      <td>0</td>\n",
       "    </tr>\n",
       "    <tr>\n",
       "      <th>3</th>\n",
       "      <td>15603246</td>\n",
       "      <td>Female</td>\n",
       "      <td>27</td>\n",
       "      <td>57000</td>\n",
       "      <td>0</td>\n",
       "    </tr>\n",
       "    <tr>\n",
       "      <th>4</th>\n",
       "      <td>15804002</td>\n",
       "      <td>Male</td>\n",
       "      <td>19</td>\n",
       "      <td>76000</td>\n",
       "      <td>0</td>\n",
       "    </tr>\n",
       "  </tbody>\n",
       "</table>\n",
       "</div>"
      ],
      "text/plain": [
       "    User ID  Gender  Age  EstimatedSalary  Purchased\n",
       "0  15624510    Male   19            19000          0\n",
       "1  15810944    Male   35            20000          0\n",
       "2  15668575  Female   26            43000          0\n",
       "3  15603246  Female   27            57000          0\n",
       "4  15804002    Male   19            76000          0"
      ]
     },
     "execution_count": 2,
     "metadata": {},
     "output_type": "execute_result"
    }
   ],
   "source": [
    "data=pd.read_csv('Social_Network_Ads.csv')\n",
    "data.head()"
   ]
  },
  {
   "cell_type": "code",
   "execution_count": 3,
   "id": "b83632e5",
   "metadata": {},
   "outputs": [],
   "source": [
    "X=data.iloc[:,2:4].values"
   ]
  },
  {
   "cell_type": "code",
   "execution_count": 4,
   "id": "b46638ea",
   "metadata": {},
   "outputs": [
    {
     "data": {
      "text/plain": [
       "(400, 2)"
      ]
     },
     "execution_count": 4,
     "metadata": {},
     "output_type": "execute_result"
    }
   ],
   "source": [
    "X.shape"
   ]
  },
  {
   "cell_type": "code",
   "execution_count": 5,
   "id": "661bd861",
   "metadata": {},
   "outputs": [],
   "source": [
    "y=data.iloc[:,-1].values"
   ]
  },
  {
   "cell_type": "code",
   "execution_count": 6,
   "id": "e0aac5ec",
   "metadata": {},
   "outputs": [
    {
     "data": {
      "text/plain": [
       "(400,)"
      ]
     },
     "execution_count": 6,
     "metadata": {},
     "output_type": "execute_result"
    }
   ],
   "source": [
    "y.shape"
   ]
  },
  {
   "cell_type": "code",
   "execution_count": 7,
   "id": "fd7b9a73",
   "metadata": {},
   "outputs": [],
   "source": [
    "from sklearn.model_selection import train_test_split\n",
    "X_train,X_test,y_train,y_test=train_test_split(X,y,test_size=0.20)"
   ]
  },
  {
   "cell_type": "code",
   "execution_count": 8,
   "id": "a7c99b7c",
   "metadata": {},
   "outputs": [],
   "source": [
    "from sklearn.preprocessing import StandardScaler\n",
    "scaler=StandardScaler()"
   ]
  },
  {
   "cell_type": "code",
   "execution_count": 9,
   "id": "6b266b0d",
   "metadata": {},
   "outputs": [
    {
     "data": {
      "text/plain": [
       "array([[-1.85042214,  0.53995934],\n",
       "       [ 1.84331879, -0.23154362],\n",
       "       [-0.05090733, -0.17219723],\n",
       "       [-0.99802038, -1.09206614],\n",
       "       [-0.99802038, -0.29089   ],\n",
       "       [ 0.13851528,  0.09486148],\n",
       "       [ 1.08562834,  0.59930572],\n",
       "       [-0.14561863,  1.48950144],\n",
       "       [ 1.08562834, -0.85468062],\n",
       "       [-0.90330908, -0.914027  ],\n",
       "       [ 0.04380398, -0.20187042],\n",
       "       [ 0.89620573, -1.00304657],\n",
       "       [ 0.89620573,  2.26100439],\n",
       "       [-0.24032994,  0.21355424],\n",
       "       [ 1.46447357, -1.00304657],\n",
       "       [-1.66099953, -1.32945167],\n",
       "       [-0.24032994,  0.21355424],\n",
       "       [-1.187443  ,  0.33224701],\n",
       "       [ 0.3279379 , -1.12173933],\n",
       "       [ 0.4226492 , -0.40958276],\n",
       "       [ 0.89620573,  1.34113548],\n",
       "       [ 1.08562834, -1.18108571],\n",
       "       [-1.09273169, -0.97337338],\n",
       "       [ 0.51736051,  1.81590653],\n",
       "       [-0.71388647, -1.50749081],\n",
       "       [ 0.99091704,  0.83669124],\n",
       "       [-1.09273169, -1.56683719],\n",
       "       [-0.61917516, -1.56683719],\n",
       "       [-1.2821543 ,  0.62897891],\n",
       "       [ 0.13851528,  1.96427249],\n",
       "       [-0.42975255, -0.49860233],\n",
       "       [-0.80859777, -0.61729509],\n",
       "       [ 0.13851528, -0.76566104],\n",
       "       [ 0.04380398,  0.09486148],\n",
       "       [ 0.80149443,  0.42126658],\n",
       "       [-0.24032994, -0.52827552],\n",
       "       [-0.71388647,  1.43015506],\n",
       "       [ 0.04380398,  1.31146229],\n",
       "       [-1.66099953,  0.53995934],\n",
       "       [-1.85042214, -0.70631466],\n",
       "       [-0.05090733,  2.26100439],\n",
       "       [-1.09273169,  1.48950144],\n",
       "       [ 0.89620573,  1.10374996],\n",
       "       [ 0.89620573, -1.27010528],\n",
       "       [ 0.23322659, -0.26121681],\n",
       "       [ 0.3279379 ,  0.12453467],\n",
       "       [ 1.08562834,  0.53995934],\n",
       "       [ 1.84331879, -1.24043209],\n",
       "       [-0.71388647,  0.56963253],\n",
       "       [-1.66099953,  0.42126658],\n",
       "       [-1.85042214,  0.42126658],\n",
       "       [ 0.3279379 , -0.26121681],\n",
       "       [ 0.89620573, -0.55794871],\n",
       "       [-1.66099953, -0.55794871],\n",
       "       [-0.80859777,  0.45093977],\n",
       "       [ 0.61207181, -0.85468062],\n",
       "       [-1.09273169,  0.53995934],\n",
       "       [ 0.89620573,  1.16309634],\n",
       "       [ 0.23322659, -0.20187042],\n",
       "       [-0.24032994, -0.43925595],\n",
       "       [-0.24032994,  0.15420786],\n",
       "       [ 2.0327414 , -0.76566104],\n",
       "       [ 0.3279379 , -0.14252404],\n",
       "       [ 0.3279379 ,  0.12453467],\n",
       "       [-0.52446386, -1.47781762],\n",
       "       [-0.05090733,  0.3619202 ],\n",
       "       [-0.52446386,  2.43904353],\n",
       "       [ 0.4226492 ,  0.06518829],\n",
       "       [ 0.3279379 , -0.49860233],\n",
       "       [ 0.23322659,  0.30257381],\n",
       "       [ 1.84331879,  0.18388105],\n",
       "       [ 0.99091704,  1.87525291],\n",
       "       [-1.09273169,  0.3619202 ],\n",
       "       [ 2.12745271,  0.45093977],\n",
       "       [-1.09273169, -1.56683719],\n",
       "       [-0.80859777,  0.21355424],\n",
       "       [-0.05090733,  0.3619202 ],\n",
       "       [-1.37686561,  0.42126658],\n",
       "       [ 0.89620573, -1.41847124],\n",
       "       [ 0.23322659, -0.08317766],\n",
       "       [ 1.74860748,  1.07407677],\n",
       "       [ 0.80149443, -0.79533424],\n",
       "       [ 1.08562834, -0.94370019],\n",
       "       [-1.66099953,  0.18388105],\n",
       "       [-0.05090733,  0.27290062],\n",
       "       [-1.187443  , -1.35912486],\n",
       "       [-0.90330908, -0.70631466],\n",
       "       [ 0.99091704, -1.12173933],\n",
       "       [-0.99802038, -1.50749081],\n",
       "       [-1.187443  ,  0.56963253],\n",
       "       [-0.24032994, -1.2107589 ],\n",
       "       [ 0.99091704,  1.51917463],\n",
       "       [-0.24032994, -0.23154362],\n",
       "       [-0.05090733, -0.37990957],\n",
       "       [-1.187443  , -1.03271976],\n",
       "       [ 0.4226492 ,  0.15420786],\n",
       "       [-1.09273169,  0.39159339],\n",
       "       [-0.42975255,  2.40937034],\n",
       "       [ 0.13851528,  0.83669124],\n",
       "       [ 2.0327414 ,  0.59930572],\n",
       "       [-0.61917516,  0.00584191],\n",
       "       [-1.2821543 ,  0.48061296],\n",
       "       [ 0.23322659,  0.09486148],\n",
       "       [-0.24032994,  0.12453467],\n",
       "       [ 0.23322659, -0.32056319],\n",
       "       [ 0.13851528, -0.26121681],\n",
       "       [-1.47157691, -1.47781762],\n",
       "       [ 0.13851528,  1.13342315],\n",
       "       [-0.99802038, -1.41847124],\n",
       "       [ 0.99091704, -1.15141252],\n",
       "       [ 0.13851528,  0.21355424],\n",
       "       [ 1.55918487,  1.07407677],\n",
       "       [-0.05090733,  0.18388105],\n",
       "       [ 0.80149443, -1.35912486],\n",
       "       [-0.90330908, -0.37990957],\n",
       "       [ 0.4226492 , -0.43925595],\n",
       "       [ 2.0327414 ,  1.84557972],\n",
       "       [-0.99802038,  0.48061296],\n",
       "       [-1.37686561, -0.5876219 ],\n",
       "       [-0.42975255,  0.0355151 ],\n",
       "       [ 0.3279379 , -0.46892914],\n",
       "       [ 0.3279379 ,  0.09486148],\n",
       "       [-1.37686561, -0.14252404],\n",
       "       [ 0.4226492 , -0.40958276],\n",
       "       [-0.71388647, -1.56683719],\n",
       "       [-1.2821543 , -1.44814443],\n",
       "       [-1.47157691, -0.37990957],\n",
       "       [-0.61917516, -1.00304657],\n",
       "       [-0.61917516, -0.29089   ],\n",
       "       [ 0.23322659,  2.20165801],\n",
       "       [ 0.80149443,  0.59930572],\n",
       "       [ 0.04380398,  0.3619202 ],\n",
       "       [-0.33504124, -0.73598785],\n",
       "       [ 1.65389618,  1.84557972],\n",
       "       [ 2.12745271, -0.76566104],\n",
       "       [ 0.23322659,  1.16309634],\n",
       "       [-0.52446386,  1.45982825],\n",
       "       [-0.99802038,  0.83669124],\n",
       "       [ 0.13851528, -0.20187042],\n",
       "       [ 1.46447357,  0.42126658],\n",
       "       [-0.05090733,  0.06518829],\n",
       "       [ 2.0327414 ,  0.24322743],\n",
       "       [-1.09273169, -1.537164  ],\n",
       "       [ 2.0327414 ,  2.2313312 ],\n",
       "       [ 0.89620573, -1.32945167],\n",
       "       [ 1.27505095,  2.32035077],\n",
       "       [ 0.23322659, -0.23154362],\n",
       "       [-0.61917516,  1.48950144],\n",
       "       [ 0.80149443,  0.33224701],\n",
       "       [-0.05090733,  2.32035077],\n",
       "       [-0.05090733,  0.30257381],\n",
       "       [ 0.04380398, -0.26121681],\n",
       "       [ 0.80149443, -1.06239295],\n",
       "       [-0.24032994, -0.26121681],\n",
       "       [-0.24032994,  0.59930572],\n",
       "       [-0.24032994, -1.41847124],\n",
       "       [-0.52446386,  1.99394568],\n",
       "       [-1.56628822, -1.537164  ],\n",
       "       [-0.14561863,  1.72688696],\n",
       "       [-1.09273169, -0.46892914],\n",
       "       [-0.61917516,  0.24322743],\n",
       "       [-0.05090733,  0.12453467],\n",
       "       [ 0.4226492 ,  0.33224701],\n",
       "       [-0.42975255,  1.34113548],\n",
       "       [-1.75571083,  0.24322743],\n",
       "       [ 2.12745271,  1.01473039],\n",
       "       [ 0.70678312,  1.87525291],\n",
       "       [-0.14561863, -0.40958276],\n",
       "       [ 0.4226492 ,  0.3619202 ],\n",
       "       [-1.187443  ,  0.6586521 ],\n",
       "       [-1.09273169, -1.06239295],\n",
       "       [ 0.51736051,  1.9345993 ],\n",
       "       [-0.24032994,  0.12453467],\n",
       "       [-0.99802038, -0.32056319],\n",
       "       [-0.71388647,  0.62897891],\n",
       "       [ 1.18033965, -1.41847124],\n",
       "       [-0.05090733, -1.03271976],\n",
       "       [-1.37686561, -1.18108571],\n",
       "       [ 0.99091704, -0.97337338],\n",
       "       [ 1.08562834, -0.08317766],\n",
       "       [-0.33504124, -0.73598785],\n",
       "       [-0.05090733, -0.43925595],\n",
       "       [ 0.70678312, -1.06239295],\n",
       "       [-0.71388647,  0.33224701],\n",
       "       [ 0.99091704,  0.18388105],\n",
       "       [-0.80859777, -0.73598785],\n",
       "       [-0.24032994, -0.32056319],\n",
       "       [ 1.18033965,  0.59930572],\n",
       "       [-0.24032994,  0.86636444],\n",
       "       [ 1.93803009,  0.9850572 ],\n",
       "       [ 0.99091704, -0.79533424],\n",
       "       [ 0.70678312, -1.35912486],\n",
       "       [-0.90330908, -0.26121681],\n",
       "       [-0.05090733,  2.05329206],\n",
       "       [ 0.4226492 , -0.08317766],\n",
       "       [ 0.13851528,  0.15420786],\n",
       "       [-0.61917516, -0.05350447],\n",
       "       [ 1.65389618,  1.69721377],\n",
       "       [-1.56628822,  0.12453467],\n",
       "       [ 0.99091704, -1.03271976],\n",
       "       [ 1.18033965, -0.94370019],\n",
       "       [ 0.89620573, -1.12173933],\n",
       "       [ 1.27505095, -1.32945167],\n",
       "       [ 0.70678312, -1.24043209],\n",
       "       [-0.80859777, -1.18108571],\n",
       "       [ 0.4226492 ,  0.3619202 ],\n",
       "       [-0.24032994,  0.68832529],\n",
       "       [ 0.70678312, -0.67664147],\n",
       "       [-0.24032994,  0.33224701],\n",
       "       [-1.47157691,  0.39159339],\n",
       "       [ 0.51736051,  1.31146229],\n",
       "       [ 0.3279379 , -0.23154362],\n",
       "       [ 0.04380398, -0.37990957],\n",
       "       [-0.90330908, -1.06239295],\n",
       "       [ 2.0327414 ,  0.45093977],\n",
       "       [ 1.36976226,  1.37080867],\n",
       "       [-0.24032994,  2.35002396],\n",
       "       [ 0.04380398, -0.52827552],\n",
       "       [-0.99802038, -0.40958276],\n",
       "       [ 0.4226492 , -0.08317766],\n",
       "       [-1.187443  ,  0.3619202 ],\n",
       "       [-1.47157691, -0.14252404],\n",
       "       [-0.24032994,  0.27290062],\n",
       "       [ 0.70678312,  0.33224701],\n",
       "       [ 1.93803009, -0.61729509],\n",
       "       [ 1.36976226, -0.88435381],\n",
       "       [-0.99802038,  2.05329206],\n",
       "       [-0.24032994, -0.88435381],\n",
       "       [-1.09273169,  0.3619202 ],\n",
       "       [-0.24032994, -0.85468062],\n",
       "       [-1.2821543 , -0.37990957],\n",
       "       [-1.2821543 , -1.32945167],\n",
       "       [-0.61917516,  0.62897891],\n",
       "       [ 1.18033965, -0.70631466],\n",
       "       [ 0.80149443, -1.32945167],\n",
       "       [-0.24032994, -1.32945167],\n",
       "       [-1.09273169, -0.73598785],\n",
       "       [ 1.93803009, -0.88435381],\n",
       "       [ 0.23322659,  0.21355424],\n",
       "       [ 0.80149443, -0.26121681],\n",
       "       [-0.61917516, -1.47781762],\n",
       "       [ 0.3279379 , -0.46892914],\n",
       "       [ 0.4226492 , -0.11285085],\n",
       "       [-0.24032994, -0.08317766],\n",
       "       [ 2.12745271, -1.00304657],\n",
       "       [-1.37686561, -1.41847124],\n",
       "       [-0.42975255, -1.18108571],\n",
       "       [ 1.36976226, -1.38879805],\n",
       "       [-1.75571083, -1.24043209],\n",
       "       [ 0.4226492 ,  0.6586521 ],\n",
       "       [-0.90330908,  0.48061296],\n",
       "       [-0.24032994, -0.29089   ],\n",
       "       [-0.14561863, -0.14252404],\n",
       "       [ 1.27505095,  1.96427249],\n",
       "       [ 0.89620573, -0.61729509],\n",
       "       [ 0.3279379 ,  0.12453467],\n",
       "       [ 1.08562834,  0.18388105],\n",
       "       [-0.99802038, -0.29089   ],\n",
       "       [-1.2821543 , -1.2107589 ],\n",
       "       [ 1.74860748, -0.23154362],\n",
       "       [-1.09273169, -1.50749081],\n",
       "       [ 0.4226492 ,  0.21355424],\n",
       "       [ 0.13851528,  1.96427249],\n",
       "       [-0.14561863, -0.46892914],\n",
       "       [-0.24032994, -1.35912486],\n",
       "       [-1.66099953, -0.94370019],\n",
       "       [-1.75571083, -1.38879805],\n",
       "       [ 0.23322659,  0.12453467],\n",
       "       [ 0.13851528,  1.6081942 ],\n",
       "       [-0.90330908,  0.51028615],\n",
       "       [-0.24032994,  1.19276953],\n",
       "       [-0.24032994, -0.52827552],\n",
       "       [ 0.80149443, -1.18108571],\n",
       "       [ 2.12745271, -0.76566104],\n",
       "       [-0.90330908,  0.56963253],\n",
       "       [ 0.99091704,  2.17198482],\n",
       "       [-1.75571083, -1.27010528],\n",
       "       [-0.99802038,  0.6586521 ],\n",
       "       [-1.2821543 , -0.37990957],\n",
       "       [-0.99802038,  0.59930572],\n",
       "       [-1.75571083, -1.44814443],\n",
       "       [ 0.80149443,  1.45982825],\n",
       "       [-0.33504124,  0.12453467],\n",
       "       [ 0.04380398, -0.49860233],\n",
       "       [-0.24032994, -1.27010528],\n",
       "       [ 0.4226492 ,  1.19276953],\n",
       "       [ 0.13851528, -0.76566104],\n",
       "       [ 2.12745271,  1.19276953],\n",
       "       [ 0.89620573, -0.52827552],\n",
       "       [ 0.3279379 ,  0.56963253],\n",
       "       [ 0.99091704,  1.96427249],\n",
       "       [ 0.3279379 , -0.67664147],\n",
       "       [-1.09273169,  0.12453467],\n",
       "       [-1.09273169,  0.48061296],\n",
       "       [-0.90330908,  1.63786739],\n",
       "       [-0.05090733,  0.09486148],\n",
       "       [-0.14561863,  1.69721377],\n",
       "       [-1.85042214, -0.46892914],\n",
       "       [ 1.55918487, -1.24043209],\n",
       "       [ 1.46447357,  1.07407677],\n",
       "       [ 0.99091704, -1.03271976],\n",
       "       [-1.75571083,  0.51028615],\n",
       "       [-0.52446386,  1.45982825],\n",
       "       [ 2.12745271, -0.64696828],\n",
       "       [ 1.36976226,  2.08296525],\n",
       "       [-0.14561863,  0.21355424],\n",
       "       [-1.2821543 , -1.06239295],\n",
       "       [-1.09273169, -1.12173933],\n",
       "       [-0.80859777,  0.3619202 ],\n",
       "       [ 0.89620573, -0.73598785],\n",
       "       [ 0.99091704,  0.6586521 ],\n",
       "       [ 1.84331879, -1.03271976],\n",
       "       [-0.99802038,  0.62897891],\n",
       "       [-0.52446386,  0.53995934],\n",
       "       [-0.14561863,  0.92571082],\n",
       "       [-0.24032994, -0.20187042],\n",
       "       [-1.56628822,  0.59930572],\n",
       "       [ 0.04380398,  1.34113548],\n",
       "       [ 0.3279379 ,  0.12453467],\n",
       "       [ 0.70678312, -1.35912486]])"
      ]
     },
     "execution_count": 9,
     "metadata": {},
     "output_type": "execute_result"
    }
   ],
   "source": [
    "X_train=scaler.fit_transform(X_train)\n",
    "X_train"
   ]
  },
  {
   "cell_type": "code",
   "execution_count": 10,
   "id": "7d66ca9d",
   "metadata": {},
   "outputs": [
    {
     "data": {
      "text/plain": [
       "array([[ 0.99091704,  2.08296525],\n",
       "       [-1.37686561, -0.05350447],\n",
       "       [ 0.89620573, -0.49860233],\n",
       "       [ 0.04380398, -0.08317766],\n",
       "       [ 1.08562834,  2.17198482],\n",
       "       [ 1.74860748,  1.9345993 ],\n",
       "       [ 1.46447357,  0.12453467],\n",
       "       [ 0.61207181,  2.11263844],\n",
       "       [-1.56628822,  0.00584191],\n",
       "       [ 1.36976226,  0.6586521 ],\n",
       "       [ 0.23322659, -0.32056319],\n",
       "       [-0.52446386, -1.47781762],\n",
       "       [-0.05090733,  0.21355424],\n",
       "       [ 0.13851528,  0.27290062],\n",
       "       [ 0.13851528,  0.33224701],\n",
       "       [ 1.36976226,  2.43904353],\n",
       "       [ 0.04380398,  0.09486148],\n",
       "       [ 0.3279379 ,  0.3619202 ],\n",
       "       [ 1.46447357,  2.2313312 ],\n",
       "       [-0.71388647,  1.99394568],\n",
       "       [-0.52446386,  1.54884782],\n",
       "       [-1.2821543 , -0.29089   ],\n",
       "       [ 0.23322659, -0.32056319],\n",
       "       [ 1.55918487,  1.19276953],\n",
       "       [-0.80859777,  2.37969715],\n",
       "       [-0.24032994, -0.61729509],\n",
       "       [-0.33504124, -1.27010528],\n",
       "       [ 0.3279379 ,  0.33224701],\n",
       "       [-0.24032994, -0.37990957],\n",
       "       [ 0.80149443,  0.18388105],\n",
       "       [ 0.80149443,  0.83669124],\n",
       "       [-0.14561863, -0.23154362],\n",
       "       [-0.14561863, -1.03271976],\n",
       "       [-1.66099953,  0.42126658],\n",
       "       [-0.71388647, -0.55794871],\n",
       "       [-0.90330908,  0.33224701],\n",
       "       [-0.42975255, -0.79533424],\n",
       "       [-0.42975255, -0.73598785],\n",
       "       [-0.24032994, -0.70631466],\n",
       "       [-1.85042214,  0.00584191],\n",
       "       [-0.14561863,  2.26100439],\n",
       "       [-0.05090733, -0.32056319],\n",
       "       [-0.42975255, -1.09206614],\n",
       "       [-0.80859777, -0.20187042],\n",
       "       [-0.24032994,  0.09486148],\n",
       "       [ 0.13851528,  0.09486148],\n",
       "       [-0.05090733, -0.46892914],\n",
       "       [ 1.84331879,  1.6081942 ],\n",
       "       [-0.42975255, -0.23154362],\n",
       "       [ 1.65389618, -0.85468062],\n",
       "       [-0.71388647,  0.3619202 ],\n",
       "       [-1.75571083,  0.06518829],\n",
       "       [ 0.23322659, -0.61729509],\n",
       "       [ 0.23322659,  0.21355424],\n",
       "       [-0.71388647, -0.17219723],\n",
       "       [-0.33504124,  1.40048187],\n",
       "       [ 1.93803009,  0.80701805],\n",
       "       [-0.52446386,  0.95538401],\n",
       "       [ 0.4226492 ,  2.40937034],\n",
       "       [-1.47157691, -1.2107589 ],\n",
       "       [ 1.93803009, -1.32945167],\n",
       "       [-0.05090733,  0.74767167],\n",
       "       [-0.80859777, -0.73598785],\n",
       "       [ 0.04380398, -0.52827552],\n",
       "       [-0.05090733,  0.33224701],\n",
       "       [ 1.08562834, -1.18108571],\n",
       "       [ 2.0327414 , -1.15141252],\n",
       "       [ 1.93803009,  2.26100439],\n",
       "       [-0.71388647,  1.16309634],\n",
       "       [-0.90330908,  0.62897891],\n",
       "       [ 0.04380398, -0.20187042],\n",
       "       [ 1.55918487,  0.06518829],\n",
       "       [-0.14561863, -0.52827552],\n",
       "       [-0.90330908, -0.26121681],\n",
       "       [-0.33504124,  1.31146229],\n",
       "       [ 0.4226492 ,  1.07407677],\n",
       "       [ 1.08562834,  0.62897891],\n",
       "       [-0.61917516,  0.09486148],\n",
       "       [-0.80859777,  0.45093977],\n",
       "       [-0.61917516,  0.18388105]])"
      ]
     },
     "execution_count": 10,
     "metadata": {},
     "output_type": "execute_result"
    }
   ],
   "source": [
    "X_test=scaler.transform(X_test)\n",
    "X_test"
   ]
  },
  {
   "cell_type": "code",
   "execution_count": 11,
   "id": "deade2a8",
   "metadata": {},
   "outputs": [
    {
     "data": {
      "text/plain": [
       "17.88854381999832"
      ]
     },
     "execution_count": 11,
     "metadata": {},
     "output_type": "execute_result"
    }
   ],
   "source": [
    "np.sqrt(X_train.shape[0])"
   ]
  },
  {
   "cell_type": "code",
   "execution_count": 12,
   "id": "c3694fa1",
   "metadata": {},
   "outputs": [],
   "source": [
    "#k=17"
   ]
  },
  {
   "cell_type": "code",
   "execution_count": 13,
   "id": "37dcdffc",
   "metadata": {},
   "outputs": [],
   "source": [
    "from sklearn.neighbors import KNeighborsClassifier\n",
    "knn=KNeighborsClassifier(n_neighbors=17)"
   ]
  },
  {
   "cell_type": "code",
   "execution_count": 14,
   "id": "a9b0213b",
   "metadata": {},
   "outputs": [
    {
     "data": {
      "text/html": [
       "<style>#sk-container-id-1 {color: black;}#sk-container-id-1 pre{padding: 0;}#sk-container-id-1 div.sk-toggleable {background-color: white;}#sk-container-id-1 label.sk-toggleable__label {cursor: pointer;display: block;width: 100%;margin-bottom: 0;padding: 0.3em;box-sizing: border-box;text-align: center;}#sk-container-id-1 label.sk-toggleable__label-arrow:before {content: \"▸\";float: left;margin-right: 0.25em;color: #696969;}#sk-container-id-1 label.sk-toggleable__label-arrow:hover:before {color: black;}#sk-container-id-1 div.sk-estimator:hover label.sk-toggleable__label-arrow:before {color: black;}#sk-container-id-1 div.sk-toggleable__content {max-height: 0;max-width: 0;overflow: hidden;text-align: left;background-color: #f0f8ff;}#sk-container-id-1 div.sk-toggleable__content pre {margin: 0.2em;color: black;border-radius: 0.25em;background-color: #f0f8ff;}#sk-container-id-1 input.sk-toggleable__control:checked~div.sk-toggleable__content {max-height: 200px;max-width: 100%;overflow: auto;}#sk-container-id-1 input.sk-toggleable__control:checked~label.sk-toggleable__label-arrow:before {content: \"▾\";}#sk-container-id-1 div.sk-estimator input.sk-toggleable__control:checked~label.sk-toggleable__label {background-color: #d4ebff;}#sk-container-id-1 div.sk-label input.sk-toggleable__control:checked~label.sk-toggleable__label {background-color: #d4ebff;}#sk-container-id-1 input.sk-hidden--visually {border: 0;clip: rect(1px 1px 1px 1px);clip: rect(1px, 1px, 1px, 1px);height: 1px;margin: -1px;overflow: hidden;padding: 0;position: absolute;width: 1px;}#sk-container-id-1 div.sk-estimator {font-family: monospace;background-color: #f0f8ff;border: 1px dotted black;border-radius: 0.25em;box-sizing: border-box;margin-bottom: 0.5em;}#sk-container-id-1 div.sk-estimator:hover {background-color: #d4ebff;}#sk-container-id-1 div.sk-parallel-item::after {content: \"\";width: 100%;border-bottom: 1px solid gray;flex-grow: 1;}#sk-container-id-1 div.sk-label:hover label.sk-toggleable__label {background-color: #d4ebff;}#sk-container-id-1 div.sk-serial::before {content: \"\";position: absolute;border-left: 1px solid gray;box-sizing: border-box;top: 0;bottom: 0;left: 50%;z-index: 0;}#sk-container-id-1 div.sk-serial {display: flex;flex-direction: column;align-items: center;background-color: white;padding-right: 0.2em;padding-left: 0.2em;position: relative;}#sk-container-id-1 div.sk-item {position: relative;z-index: 1;}#sk-container-id-1 div.sk-parallel {display: flex;align-items: stretch;justify-content: center;background-color: white;position: relative;}#sk-container-id-1 div.sk-item::before, #sk-container-id-1 div.sk-parallel-item::before {content: \"\";position: absolute;border-left: 1px solid gray;box-sizing: border-box;top: 0;bottom: 0;left: 50%;z-index: -1;}#sk-container-id-1 div.sk-parallel-item {display: flex;flex-direction: column;z-index: 1;position: relative;background-color: white;}#sk-container-id-1 div.sk-parallel-item:first-child::after {align-self: flex-end;width: 50%;}#sk-container-id-1 div.sk-parallel-item:last-child::after {align-self: flex-start;width: 50%;}#sk-container-id-1 div.sk-parallel-item:only-child::after {width: 0;}#sk-container-id-1 div.sk-dashed-wrapped {border: 1px dashed gray;margin: 0 0.4em 0.5em 0.4em;box-sizing: border-box;padding-bottom: 0.4em;background-color: white;}#sk-container-id-1 div.sk-label label {font-family: monospace;font-weight: bold;display: inline-block;line-height: 1.2em;}#sk-container-id-1 div.sk-label-container {text-align: center;}#sk-container-id-1 div.sk-container {/* jupyter's `normalize.less` sets `[hidden] { display: none; }` but bootstrap.min.css set `[hidden] { display: none !important; }` so we also need the `!important` here to be able to override the default hidden behavior on the sphinx rendered scikit-learn.org. See: https://github.com/scikit-learn/scikit-learn/issues/21755 */display: inline-block !important;position: relative;}#sk-container-id-1 div.sk-text-repr-fallback {display: none;}</style><div id=\"sk-container-id-1\" class=\"sk-top-container\"><div class=\"sk-text-repr-fallback\"><pre>KNeighborsClassifier(n_neighbors=17)</pre><b>In a Jupyter environment, please rerun this cell to show the HTML representation or trust the notebook. <br />On GitHub, the HTML representation is unable to render, please try loading this page with nbviewer.org.</b></div><div class=\"sk-container\" hidden><div class=\"sk-item\"><div class=\"sk-estimator sk-toggleable\"><input class=\"sk-toggleable__control sk-hidden--visually\" id=\"sk-estimator-id-1\" type=\"checkbox\" checked><label for=\"sk-estimator-id-1\" class=\"sk-toggleable__label sk-toggleable__label-arrow\">KNeighborsClassifier</label><div class=\"sk-toggleable__content\"><pre>KNeighborsClassifier(n_neighbors=17)</pre></div></div></div></div></div>"
      ],
      "text/plain": [
       "KNeighborsClassifier(n_neighbors=17)"
      ]
     },
     "execution_count": 14,
     "metadata": {},
     "output_type": "execute_result"
    }
   ],
   "source": [
    "knn.fit(X_train,y_train)"
   ]
  },
  {
   "cell_type": "code",
   "execution_count": 15,
   "id": "5d684c58",
   "metadata": {},
   "outputs": [],
   "source": [
    "y_pred=knn.predict(X_test)"
   ]
  },
  {
   "cell_type": "code",
   "execution_count": 16,
   "id": "8dc1b3c7",
   "metadata": {},
   "outputs": [
    {
     "data": {
      "text/plain": [
       "(80,)"
      ]
     },
     "execution_count": 16,
     "metadata": {},
     "output_type": "execute_result"
    }
   ],
   "source": [
    "y_pred.shape"
   ]
  },
  {
   "cell_type": "code",
   "execution_count": 17,
   "id": "2202eda5",
   "metadata": {},
   "outputs": [
    {
     "data": {
      "text/plain": [
       "(80,)"
      ]
     },
     "execution_count": 17,
     "metadata": {},
     "output_type": "execute_result"
    }
   ],
   "source": [
    "y_test.shape"
   ]
  },
  {
   "cell_type": "code",
   "execution_count": 18,
   "id": "f2ca47d2",
   "metadata": {},
   "outputs": [
    {
     "data": {
      "text/plain": [
       "0.925"
      ]
     },
     "execution_count": 18,
     "metadata": {},
     "output_type": "execute_result"
    }
   ],
   "source": [
    "from sklearn.metrics import accuracy_score\n",
    "accuracy_score(y_test,y_pred)"
   ]
  },
  {
   "cell_type": "code",
   "execution_count": 19,
   "id": "a6efa7be",
   "metadata": {},
   "outputs": [
    {
     "data": {
      "text/plain": [
       "array([[48,  2],\n",
       "       [ 4, 26]], dtype=int64)"
      ]
     },
     "execution_count": 19,
     "metadata": {},
     "output_type": "execute_result"
    }
   ],
   "source": [
    "from sklearn.metrics import confusion_matrix\n",
    "confusion_matrix(y_test,y_pred)"
   ]
  },
  {
   "cell_type": "code",
   "execution_count": 20,
   "id": "c8d3219c",
   "metadata": {},
   "outputs": [
    {
     "name": "stdout",
     "output_type": "stream",
     "text": [
      "[0.8625, 0.8875, 0.925, 0.8875, 0.9125, 0.9125, 0.925, 0.9125, 0.925, 0.925, 0.9375, 0.925, 0.925, 0.925, 0.925, 0.925, 0.925, 0.9125, 0.925, 0.925, 0.925, 0.925, 0.925, 0.9125, 0.925]\n"
     ]
    }
   ],
   "source": [
    "from sklearn import metrics\n",
    "from sklearn.metrics import classification_report\n",
    "from sklearn.metrics import confusion_matrix,accuracy_score\n",
    "k_range = range(1, 26)\n",
    "\n",
    "# We can create Python dictionary using [] or dict()\n",
    "#Method2\n",
    "scores = []\n",
    "\n",
    "# We use a loop through the range 1 to 26\n",
    "# We append the scores in the dictionary\n",
    "for k in k_range:\n",
    "    knn3 = KNeighborsClassifier(n_neighbors=k)\n",
    "    knn3.fit(X_train, y_train)\n",
    "    y_pred1 = knn3.predict(X_test)\n",
    "    #accuracy = knn3.score(X_test, y_test)\n",
    "    #scores.append(accuracy)\n",
    "    #scores.append(metrics.accuracy_score(y_test, knn3.predict(X_test))\n",
    "    scores.append(metrics.accuracy_score(y_test, y_pred1))\n",
    "    \n",
    "\n",
    "print(scores)\n",
    "\n",
    "\n"
   ]
  },
  {
   "cell_type": "code",
   "execution_count": 21,
   "id": "ceddde77",
   "metadata": {},
   "outputs": [
    {
     "data": {
      "text/plain": [
       "[<matplotlib.lines.Line2D at 0x227d1507710>]"
      ]
     },
     "execution_count": 21,
     "metadata": {},
     "output_type": "execute_result"
    },
    {
     "data": {
      "image/png": "[encoded data removed]",
      "text/plain": [
       "<Figure size 640x480 with 1 Axes>"
      ]
     },
     "metadata": {},
     "output_type": "display_data"
    }
   ],
   "source": [
    "plt.plot(k_range, scores,'go--')"
   ]
  },
  {
   "cell_type": "code",
   "execution_count": 33,
   "id": "9724db85",
   "metadata": {},
   "outputs": [],
   "source": [
    "knn5 = KNeighborsClassifier(n_neighbors=11)\n",
    "    "
   ]
  },
  {
   "cell_type": "code",
   "execution_count": 34,
   "id": "dc157d4f",
   "metadata": {},
   "outputs": [
    {
     "data": {
      "text/html": [
       "<style>#sk-container-id-3 {color: black;}#sk-container-id-3 pre{padding: 0;}#sk-container-id-3 div.sk-toggleable {background-color: white;}#sk-container-id-3 label.sk-toggleable__label {cursor: pointer;display: block;width: 100%;margin-bottom: 0;padding: 0.3em;box-sizing: border-box;text-align: center;}#sk-container-id-3 label.sk-toggleable__label-arrow:before {content: \"▸\";float: left;margin-right: 0.25em;color: #696969;}#sk-container-id-3 label.sk-toggleable__label-arrow:hover:before {color: black;}#sk-container-id-3 div.sk-estimator:hover label.sk-toggleable__label-arrow:before {color: black;}#sk-container-id-3 div.sk-toggleable__content {max-height: 0;max-width: 0;overflow: hidden;text-align: left;background-color: #f0f8ff;}#sk-container-id-3 div.sk-toggleable__content pre {margin: 0.2em;color: black;border-radius: 0.25em;background-color: #f0f8ff;}#sk-container-id-3 input.sk-toggleable__control:checked~div.sk-toggleable__content {max-height: 200px;max-width: 100%;overflow: auto;}#sk-container-id-3 input.sk-toggleable__control:checked~label.sk-toggleable__label-arrow:before {content: \"▾\";}#sk-container-id-3 div.sk-estimator input.sk-toggleable__control:checked~label.sk-toggleable__label {background-color: #d4ebff;}#sk-container-id-3 div.sk-label input.sk-toggleable__control:checked~label.sk-toggleable__label {background-color: #d4ebff;}#sk-container-id-3 input.sk-hidden--visually {border: 0;clip: rect(1px 1px 1px 1px);clip: rect(1px, 1px, 1px, 1px);height: 1px;margin: -1px;overflow: hidden;padding: 0;position: absolute;width: 1px;}#sk-container-id-3 div.sk-estimator {font-family: monospace;background-color: #f0f8ff;border: 1px dotted black;border-radius: 0.25em;box-sizing: border-box;margin-bottom: 0.5em;}#sk-container-id-3 div.sk-estimator:hover {background-color: #d4ebff;}#sk-container-id-3 div.sk-parallel-item::after {content: \"\";width: 100%;border-bottom: 1px solid gray;flex-grow: 1;}#sk-container-id-3 div.sk-label:hover label.sk-toggleable__label {background-color: #d4ebff;}#sk-container-id-3 div.sk-serial::before {content: \"\";position: absolute;border-left: 1px solid gray;box-sizing: border-box;top: 0;bottom: 0;left: 50%;z-index: 0;}#sk-container-id-3 div.sk-serial {display: flex;flex-direction: column;align-items: center;background-color: white;padding-right: 0.2em;padding-left: 0.2em;position: relative;}#sk-container-id-3 div.sk-item {position: relative;z-index: 1;}#sk-container-id-3 div.sk-parallel {display: flex;align-items: stretch;justify-content: center;background-color: white;position: relative;}#sk-container-id-3 div.sk-item::before, #sk-container-id-3 div.sk-parallel-item::before {content: \"\";position: absolute;border-left: 1px solid gray;box-sizing: border-box;top: 0;bottom: 0;left: 50%;z-index: -1;}#sk-container-id-3 div.sk-parallel-item {display: flex;flex-direction: column;z-index: 1;position: relative;background-color: white;}#sk-container-id-3 div.sk-parallel-item:first-child::after {align-self: flex-end;width: 50%;}#sk-container-id-3 div.sk-parallel-item:last-child::after {align-self: flex-start;width: 50%;}#sk-container-id-3 div.sk-parallel-item:only-child::after {width: 0;}#sk-container-id-3 div.sk-dashed-wrapped {border: 1px dashed gray;margin: 0 0.4em 0.5em 0.4em;box-sizing: border-box;padding-bottom: 0.4em;background-color: white;}#sk-container-id-3 div.sk-label label {font-family: monospace;font-weight: bold;display: inline-block;line-height: 1.2em;}#sk-container-id-3 div.sk-label-container {text-align: center;}#sk-container-id-3 div.sk-container {/* jupyter's `normalize.less` sets `[hidden] { display: none; }` but bootstrap.min.css set `[hidden] { display: none !important; }` so we also need the `!important` here to be able to override the default hidden behavior on the sphinx rendered scikit-learn.org. See: https://github.com/scikit-learn/scikit-learn/issues/21755 */display: inline-block !important;position: relative;}#sk-container-id-3 div.sk-text-repr-fallback {display: none;}</style><div id=\"sk-container-id-3\" class=\"sk-top-container\"><div class=\"sk-text-repr-fallback\"><pre>KNeighborsClassifier(n_neighbors=12)</pre><b>In a Jupyter environment, please rerun this cell to show the HTML representation or trust the notebook. <br />On GitHub, the HTML representation is unable to render, please try loading this page with nbviewer.org.</b></div><div class=\"sk-container\" hidden><div class=\"sk-item\"><div class=\"sk-estimator sk-toggleable\"><input class=\"sk-toggleable__control sk-hidden--visually\" id=\"sk-estimator-id-3\" type=\"checkbox\" checked><label for=\"sk-estimator-id-3\" class=\"sk-toggleable__label sk-toggleable__label-arrow\">KNeighborsClassifier</label><div class=\"sk-toggleable__content\"><pre>KNeighborsClassifier(n_neighbors=12)</pre></div></div></div></div></div>"
      ],
      "text/plain": [
       "KNeighborsClassifier(n_neighbors=12)"
      ]
     },
     "execution_count": 34,
     "metadata": {},
     "output_type": "execute_result"
    }
   ],
   "source": [
    "knn5.fit(X_train, y_train)"
   ]
  },
  {
   "cell_type": "code",
   "execution_count": 35,
   "id": "b1fd481c",
   "metadata": {},
   "outputs": [
    {
     "data": {
      "text/plain": [
       "array([1, 0, 0, 0, 1, 1, 1, 1, 0, 1, 0, 0, 0, 0, 0, 1, 0, 0, 1, 1, 1, 0,\n",
       "       0, 1, 1, 0, 0, 0, 0, 0, 1, 0, 0, 0, 0, 0, 0, 0, 0, 0, 1, 0, 0, 0,\n",
       "       0, 0, 0, 1, 0, 1, 0, 0, 0, 0, 0, 1, 1, 0, 1, 0, 1, 1, 0, 0, 0, 1,\n",
       "       1, 1, 0, 0, 0, 1, 0, 0, 1, 1, 1, 0, 0, 0], dtype=int64)"
      ]
     },
     "execution_count": 35,
     "metadata": {},
     "output_type": "execute_result"
    }
   ],
   "source": [
    "ypred1 = knn5.predict(X_test)\n",
    "ypred1"
   ]
  },
  {
   "cell_type": "code",
   "execution_count": 36,
   "id": "bde0d95d",
   "metadata": {},
   "outputs": [
    {
     "data": {
      "text/plain": [
       "0.925"
      ]
     },
     "execution_count": 36,
     "metadata": {},
     "output_type": "execute_result"
    }
   ],
   "source": [
    "#knn4.score(y_train, y_test)\n",
    "accuracy_score(y_test,ypred1)"
   ]
  },
  {
   "cell_type": "code",
   "execution_count": 37,
   "id": "ca6cb024",
   "metadata": {},
   "outputs": [
    {
     "data": {
      "text/plain": [
       "0.925"
      ]
     },
     "execution_count": 37,
     "metadata": {},
     "output_type": "execute_result"
    }
   ],
   "source": [
    "knn4.score(X_test, y_test)"
   ]
  },
  {
   "cell_type": "code",
   "execution_count": null,
   "id": "58a316b3",
   "metadata": {},
   "outputs": [],
   "source": []
  }
 ],
 "metadata": {
  "kernelspec": {
   "display_name": "Python 3",
   "language": "python",
   "name": "python3"
  },
  "language_info": {
   "codemirror_mode": {
    "name": "ipython",
    "version": 3
   },
   "file_extension": ".py",
   "mimetype": "text/x-python",
   "name": "python",
   "nbconvert_exporter": "python",
   "pygments_lexer": "ipython3",
   "version": "3.11.4"
  }
 },
 "nbformat": 4,
 "nbformat_minor": 5
}
